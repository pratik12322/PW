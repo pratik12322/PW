{
  "nbformat": 4,
  "nbformat_minor": 0,
  "metadata": {
    "colab": {
      "provenance": []
    },
    "kernelspec": {
      "name": "python3",
      "display_name": "Python 3"
    },
    "language_info": {
      "name": "python"
    }
  },
  "cells": [
    {
      "cell_type": "code",
      "metadata": {
        "colab": {
          "base_uri": "https://localhost:8080/"
        },
        "id": "0241d6cc",
        "outputId": "3db9372c-2e44-4aa3-d940-4178db136b3a"
      },
      "source": [
        "    import logging\n",
        "\n",
        "    # Configure logging to output messages of INFO level and above to the console\n",
        "    logging.basicConfig(level=logging.INFO)\n",
        "\n",
        "    logging.info(\"This is an informational message.\")\n",
        "    logging.warning(\"This is a warning message.\")\n",
        "    logging.error(\"This is an error message.\")"
      ],
      "execution_count": 8,
      "outputs": [
        {
          "output_type": "stream",
          "name": "stderr",
          "text": [
            "WARNING:root:This is a warning message.\n",
            "ERROR:root:This is an error message.\n"
          ]
        }
      ]
    },
    {
      "cell_type": "code",
      "metadata": {
        "colab": {
          "base_uri": "https://localhost:8080/"
        },
        "id": "db8c7e9b",
        "outputId": "b5e824df-024d-4151-d6fa-33125ba2024f"
      },
      "source": [
        "import logging\n",
        "\n",
        "logging.basicConfig(filename='file_error.log', level=logging.ERROR)\n",
        "\n",
        "try:\n",
        "    with open('non_existent_file.txt', 'r') as f:\n",
        "        content = f.read()\n",
        "except FileNotFoundError:\n",
        "    logging.error(\"Attempted to open a non-existent file.\")\n",
        "    print(\"An error occurred and was logged.\")\n",
        "except IOError:\n",
        "    logging.error(\"An I/O error occurred during file handling.\")\n",
        "    print(\"An error occurred and was logged.\")"
      ],
      "execution_count": 24,
      "outputs": [
        {
          "output_type": "stream",
          "name": "stderr",
          "text": [
            "ERROR:root:Attempted to open a non-existent file.\n"
          ]
        },
        {
          "output_type": "stream",
          "name": "stdout",
          "text": [
            "An error occurred and was logged.\n"
          ]
        }
      ]
    },
    {
      "cell_type": "markdown",
      "metadata": {
        "id": "0a926279"
      },
      "source": [
        "47. **Write a Python program that writes to a log file when an error occurs during file handling**"
      ]
    },
    {
      "cell_type": "code",
      "metadata": {
        "colab": {
          "base_uri": "https://localhost:8080/"
        },
        "id": "de3c56a1",
        "outputId": "487bf6e2-2fef-484c-8a4c-49dd30ec6902"
      },
      "source": [
        "import os\n",
        "\n",
        "file_name = 'my_file.txt'\n",
        "\n",
        "if os.path.exists(file_name):\n",
        "    if os.path.getsize(file_name) > 0:\n",
        "        print(f\"File '{file_name}' is not empty.\")\n",
        "        try:\n",
        "            with open(file_name, 'r') as f:\n",
        "                content = f.read()\n",
        "                print(\"File content:\")\n",
        "                print(content)\n",
        "        except IOError:\n",
        "            print(f\"Error: Could not read file '{file_name}'\")\n",
        "    else:\n",
        "        print(f\"File '{file_name}' is empty.\")\n",
        "else:\n",
        "    print(f\"Error: File '{file_name}' does not exist.\")"
      ],
      "execution_count": 23,
      "outputs": [
        {
          "output_type": "stream",
          "name": "stdout",
          "text": [
            "File 'my_file.txt' is not empty.\n",
            "File content:\n",
            "\n",
            "This is an appended line.\n"
          ]
        }
      ]
    },
    {
      "cell_type": "markdown",
      "metadata": {
        "id": "339e56e3"
      },
      "source": [
        "46. **How can you check if a file is empty before attempting to read its contents?**\n",
        "\n",
        "You can use the `os.path.getsize()` function to get the size of a file in bytes. If the size is 0, the file is empty."
      ]
    },
    {
      "cell_type": "code",
      "metadata": {
        "colab": {
          "base_uri": "https://localhost:8080/"
        },
        "id": "8a9122a6",
        "outputId": "1abf4692-46e7-497e-b1b2-9b6012dadcbf"
      },
      "source": [
        "def count_word_occurrences(filename, word):\n",
        "    count = 0\n",
        "    try:\n",
        "        with open(filename, 'r') as f:\n",
        "            content = f.read()\n",
        "            # Split the content into words and count occurrences (case-insensitive)\n",
        "            count = content.lower().split().count(word.lower())\n",
        "        return count\n",
        "    except FileNotFoundError:\n",
        "        print(f\"Error: The file '{filename}' was not found.\")\n",
        "        return -1\n",
        "    except IOError:\n",
        "        print(f\"Error: Could not read file '{filename}'.\")\n",
        "        return -1\n",
        "\n",
        "# Example usage:\n",
        "file_name = 'my_file.txt'\n",
        "word_to_find = 'This'\n",
        "occurrences = count_word_occurrences(file_name, word_to_find)\n",
        "\n",
        "if occurrences != -1:\n",
        "    print(f\"The word '{word_to_find}' appears {occurrences} times in '{file_name}'.\")"
      ],
      "execution_count": 22,
      "outputs": [
        {
          "output_type": "stream",
          "name": "stdout",
          "text": [
            "The word 'This' appears 1 times in 'my_file.txt'.\n"
          ]
        }
      ]
    },
    {
      "cell_type": "markdown",
      "metadata": {
        "id": "5148c167"
      },
      "source": [
        "45. **Write a Python program that reads a file and prints the number of occurrences of a specific word**"
      ]
    },
    {
      "cell_type": "code",
      "metadata": {
        "colab": {
          "base_uri": "https://localhost:8080/"
        },
        "id": "75241b4e",
        "outputId": "13f34c7a-5d88-4c19-abb4-18d32bae6b01"
      },
      "source": [
        "try:\n",
        "    with open('my_file.txt', 'r') as f:\n",
        "        content = f.read()\n",
        "        print(\"File content:\")\n",
        "        print(content)\n",
        "except FileNotFoundError:\n",
        "    print(\"Error: The file was not found.\")\n",
        "except IOError:\n",
        "    print(\"Error: Could not read file.\")"
      ],
      "execution_count": 21,
      "outputs": [
        {
          "output_type": "stream",
          "name": "stdout",
          "text": [
            "File content:\n",
            "\n",
            "This is an appended line.\n"
          ]
        }
      ]
    },
    {
      "cell_type": "markdown",
      "metadata": {
        "id": "e83d675e"
      },
      "source": [
        "44. **How would you open a file and read its contents using a context manager in Python?**\n",
        "\n",
        "You can use the `with` statement to open a file, which acts as a context manager and ensures the file is automatically closed."
      ]
    },
    {
      "cell_type": "code",
      "metadata": {
        "colab": {
          "base_uri": "https://localhost:8080/"
        },
        "id": "e23754b0",
        "outputId": "7eff387e-199f-4c14-e4e9-fe749a1eae23"
      },
      "source": [
        "my_list = [1, 2, 3]\n",
        "my_dict = {\"a\": 1, \"b\": 2}\n",
        "\n",
        "try:\n",
        "    # Attempt to access an invalid index\n",
        "    # print(my_list[5])\n",
        "\n",
        "    # Attempt to access a non-existent key\n",
        "    print(my_dict[\"c\"])\n",
        "\n",
        "except (IndexError, KeyError) as e:\n",
        "    print(f\"Caught an error: {e}\")"
      ],
      "execution_count": 20,
      "outputs": [
        {
          "output_type": "stream",
          "name": "stdout",
          "text": [
            "Caught an error: 'c'\n"
          ]
        }
      ]
    },
    {
      "cell_type": "markdown",
      "metadata": {
        "id": "7ede7674"
      },
      "source": [
        "43. **Write a program that handles both IndexError and KeyError using a try-except block**"
      ]
    },
    {
      "cell_type": "code",
      "metadata": {
        "colab": {
          "base_uri": "https://localhost:8080/"
        },
        "id": "9a55a4f7",
        "outputId": "cf06128d-5f50-4fab-f30b-4f589aa56b73"
      },
      "source": [
        "import logging\n",
        "from logging.handlers import RotatingFileHandler\n",
        "\n",
        "log_file = 'rotating_app.log'\n",
        "max_bytes = 1024 * 1024 # 1 MB\n",
        "backup_count = 5 # Keep up to 5 backup files\n",
        "\n",
        "# Create a logger\n",
        "logger = logging.getLogger('my_rotating_logger')\n",
        "logger.setLevel(logging.INFO)\n",
        "\n",
        "# Create a rotating file handler\n",
        "handler = RotatingFileHandler(log_file, maxBytes=max_bytes, backupCount=backup_count)\n",
        "\n",
        "# Create a formatter\n",
        "formatter = logging.Formatter('%(asctime)s - %(name)s - %(levelname)s - %(message)s')\n",
        "handler.setFormatter(formatter)\n",
        "\n",
        "# Add the handler to the logger\n",
        "logger.addHandler(handler)\n",
        "\n",
        "# Log some messages\n",
        "logger.info(\"This is an informational message.\")\n",
        "logger.error(\"This is an error message.\")"
      ],
      "execution_count": 19,
      "outputs": [
        {
          "output_type": "stream",
          "name": "stderr",
          "text": [
            "INFO:my_rotating_logger:This is an informational message.\n",
            "ERROR:my_rotating_logger:This is an error message.\n"
          ]
        }
      ]
    },
    {
      "cell_type": "markdown",
      "metadata": {
        "id": "40f560d3"
      },
      "source": [
        "42. **How would you implement a basic logging setup that logs to a file with rotation after 1MB?**\n",
        "\n",
        "You can use the `logging.handlers.RotatingFileHandler` for this."
      ]
    },
    {
      "cell_type": "code",
      "metadata": {
        "colab": {
          "base_uri": "https://localhost:8080/"
        },
        "id": "3cb14666",
        "outputId": "19784cdf-1b06-4b20-e535-4ef4a282a0e3"
      },
      "source": [
        "numbers = [10, 20, 30, 40, 50]\n",
        "try:\n",
        "    with open('numbers.txt', 'w') as f:\n",
        "        for number in numbers:\n",
        "            f.write(f\"{number}\\n\")\n",
        "    print(\"Numbers written to numbers.txt\")\n",
        "except IOError:\n",
        "    print(\"Error: Could not write to file.\")"
      ],
      "execution_count": 18,
      "outputs": [
        {
          "output_type": "stream",
          "name": "stdout",
          "text": [
            "Numbers written to numbers.txt\n"
          ]
        }
      ]
    },
    {
      "cell_type": "markdown",
      "metadata": {
        "id": "fd102be8"
      },
      "source": [
        "41. **Write a Python program to create and write a list of numbers to a file, one number per line**"
      ]
    },
    {
      "cell_type": "code",
      "metadata": {
        "id": "8542d713"
      },
      "source": [
        "# !pip install memory-profiler\n",
        "# %load_ext memory_profiler\n",
        "\n",
        "# @profile\n",
        "# def my_function():\n",
        "#     a = [1] * (10 ** 6)\n",
        "#     b = [2] * (2 * 10 ** 7)\n",
        "#     del b\n",
        "#     return a\n",
        "\n",
        "# if __name__ == '__main__':\n",
        "#     my_function()"
      ],
      "execution_count": 17,
      "outputs": []
    },
    {
      "cell_type": "markdown",
      "metadata": {
        "id": "bf9fd6f5"
      },
      "source": [
        "40. **Demonstrate how to use memory profiling to check the memory usage of a small program**\n",
        "\n",
        "You can use the `memory_profiler` library to profile memory usage. You'll need to install it first (`pip install memory-profiler`). Then, you can use the `@profile` decorator on the function you want to profile."
      ]
    },
    {
      "cell_type": "code",
      "metadata": {
        "colab": {
          "base_uri": "https://localhost:8080/"
        },
        "id": "7977a0f8",
        "outputId": "5910e395-cc5f-4f5e-ecd6-3aabcee73849"
      },
      "source": [
        "try:\n",
        "    with open('my_file.txt', 'r') as f:\n",
        "        content = f.read()\n",
        "        if content:\n",
        "            print(\"File content:\")\n",
        "            print(content)\n",
        "        else:\n",
        "            print(\"The file is empty.\")\n",
        "except FileNotFoundError:\n",
        "    print(\"Error: The file was not found.\")\n",
        "except IOError:\n",
        "    print(\"Error: Could not read file.\")"
      ],
      "execution_count": 16,
      "outputs": [
        {
          "output_type": "stream",
          "name": "stdout",
          "text": [
            "File content:\n",
            "\n",
            "This is an appended line.\n"
          ]
        }
      ]
    },
    {
      "cell_type": "markdown",
      "metadata": {
        "id": "2c9c674c"
      },
      "source": [
        "Here are the answers and code examples for your next set of questions:\n",
        "\n",
        "39. **Write a Python program that prints the content of a file and handles the case when the file is empty**"
      ]
    },
    {
      "cell_type": "code",
      "metadata": {
        "colab": {
          "base_uri": "https://localhost:8080/"
        },
        "id": "172b1b94",
        "outputId": "bed6155b-cae4-4456-bda3-ea25c637d149"
      },
      "source": [
        "import logging\n",
        "\n",
        "logging.basicConfig(level=logging.INFO, format='%(asctime)s - %(levelname)s - %(message)s')\n",
        "\n",
        "logging.info(\"This is an informational message.\")\n",
        "try:\n",
        "    result = 10 / 0\n",
        "except ZeroDivisionError:\n",
        "    logging.error(\"Attempted to divide by zero.\")"
      ],
      "execution_count": 15,
      "outputs": [
        {
          "output_type": "stream",
          "name": "stderr",
          "text": [
            "ERROR:root:Attempted to divide by zero.\n"
          ]
        }
      ]
    },
    {
      "cell_type": "markdown",
      "metadata": {
        "id": "95c19716"
      },
      "source": [
        "38. **Write a program that uses the logging module to log both informational and error messages**"
      ]
    },
    {
      "cell_type": "code",
      "metadata": {
        "colab": {
          "base_uri": "https://localhost:8080/"
        },
        "id": "7bf710dc",
        "outputId": "ca5c07eb-c45f-4b08-c8e6-e08238a6b536"
      },
      "source": [
        "import os\n",
        "\n",
        "file_name = 'my_file.txt'\n",
        "\n",
        "if os.path.exists(file_name):\n",
        "    try:\n",
        "        with open(file_name, 'r') as f:\n",
        "            content = f.read()\n",
        "            print(f\"File content:\\n{content}\")\n",
        "    except IOError:\n",
        "        print(f\"Error: Could not read file {file_name}\")\n",
        "else:\n",
        "    print(f\"Error: File '{file_name}' does not exist.\")"
      ],
      "execution_count": 14,
      "outputs": [
        {
          "output_type": "stream",
          "name": "stdout",
          "text": [
            "File content:\n",
            "\n",
            "This is an appended line.\n"
          ]
        }
      ]
    },
    {
      "cell_type": "markdown",
      "metadata": {
        "id": "be57f9a0"
      },
      "source": [
        "37. **How would you check if a file exists before attempting to read it in Python?**\n",
        "\n",
        "You can use the `os.path.exists()` function to check if a file exists before attempting to open it."
      ]
    },
    {
      "cell_type": "code",
      "metadata": {
        "colab": {
          "base_uri": "https://localhost:8080/"
        },
        "id": "1f646e28",
        "outputId": "d31854ee-6a31-472b-bd99-ec7ebb5aaea5"
      },
      "source": [
        "try:\n",
        "    # Example 1: Division by zero\n",
        "    # result = 10 / 0\n",
        "\n",
        "    # Example 2: Accessing a non-existent file\n",
        "    with open('non_existent_file.txt', 'r') as f:\n",
        "        content = f.read()\n",
        "\n",
        "except ZeroDivisionError:\n",
        "    print(\"Caught a ZeroDivisionError!\")\n",
        "except FileNotFoundError:\n",
        "    print(\"Caught a FileNotFoundError!\")\n",
        "except Exception as e:\n",
        "    print(f\"Caught an unexpected error: {e}\")"
      ],
      "execution_count": 13,
      "outputs": [
        {
          "output_type": "stream",
          "name": "stdout",
          "text": [
            "Caught a FileNotFoundError!\n"
          ]
        }
      ]
    },
    {
      "cell_type": "markdown",
      "metadata": {
        "id": "04d6c980"
      },
      "source": [
        "36. **Write a program that demonstrates using multiple except blocks to handle different types of exceptions**"
      ]
    },
    {
      "cell_type": "code",
      "metadata": {
        "colab": {
          "base_uri": "https://localhost:8080/"
        },
        "id": "ea2a3af4",
        "outputId": "354a8782-bcef-46ec-a324-25359c644281"
      },
      "source": [
        "my_dict = {\"name\": \"Alice\", \"age\": 30}\n",
        "\n",
        "try:\n",
        "    city = my_dict[\"city\"]\n",
        "    print(city)\n",
        "except KeyError:\n",
        "    print(\"Error: The key 'city' does not exist in the dictionary.\")"
      ],
      "execution_count": 12,
      "outputs": [
        {
          "output_type": "stream",
          "name": "stdout",
          "text": [
            "Error: The key 'city' does not exist in the dictionary.\n"
          ]
        }
      ]
    },
    {
      "cell_type": "markdown",
      "metadata": {
        "id": "244c9237"
      },
      "source": [
        "35. **Write a Python program that uses a try-except block to handle an error when attempting to access a dictionary key that doesn't exist**"
      ]
    },
    {
      "cell_type": "code",
      "metadata": {
        "colab": {
          "base_uri": "https://localhost:8080/"
        },
        "id": "2e90019d",
        "outputId": "93a51f60-da90-4516-d4bf-d24b0815b65a"
      },
      "source": [
        "try:\n",
        "    with open('my_file.txt', 'a') as f:\n",
        "        f.write(\"\\nThis is an appended line.\")\n",
        "    print(\"Data appended to the file.\")\n",
        "except IOError:\n",
        "    print(\"Error: Could not append to the file.\")"
      ],
      "execution_count": 11,
      "outputs": [
        {
          "output_type": "stream",
          "name": "stdout",
          "text": [
            "Data appended to the file.\n"
          ]
        }
      ]
    },
    {
      "cell_type": "markdown",
      "metadata": {
        "id": "afb24d3c"
      },
      "source": [
        "34. **How can you append data to an existing file in Python?**\n",
        "\n",
        "You can append data to an existing file by opening it in append mode using the `open()` function with the mode `'a'`. If the file doesn't exist, it will be created."
      ]
    },
    {
      "cell_type": "code",
      "metadata": {
        "colab": {
          "base_uri": "https://localhost:8080/"
        },
        "id": "a0ba2358",
        "outputId": "0a3332d1-97e6-4be3-f885-cbdacf669a45"
      },
      "source": [
        "lines = []\n",
        "try:\n",
        "    with open('my_file.txt', 'r') as f:\n",
        "        for line in f:\n",
        "            lines.append(line.strip())\n",
        "    print(\"File content as a list:\")\n",
        "    print(lines)\n",
        "except FileNotFoundError:\n",
        "    print(\"Error: The file was not found.\")"
      ],
      "execution_count": 10,
      "outputs": [
        {
          "output_type": "stream",
          "name": "stdout",
          "text": [
            "Error: The file was not found.\n"
          ]
        }
      ]
    },
    {
      "cell_type": "markdown",
      "metadata": {
        "id": "491f49bf"
      },
      "source": [
        "33. **How can you read a file line by line and store its content in a list in Python?**\n",
        "\n",
        "You can read a file line by line using a `for` loop and the file object, and then append each line to a list. The `strip()` method can be used to remove leading/trailing whitespace, including the newline character."
      ]
    },
    {
      "cell_type": "code",
      "metadata": {
        "colab": {
          "base_uri": "https://localhost:8080/"
        },
        "id": "73c24d0c",
        "outputId": "5d9abd63-b6bc-4a03-cdcc-49fc41254bc1"
      },
      "source": [
        "try:\n",
        "    with open('non_existent_file.txt', 'r') as f:\n",
        "        content = f.read()\n",
        "except FileNotFoundError:\n",
        "    print(\"Error: The file could not be opened because it does not exist.\")\n",
        "except IOError:\n",
        "    print(\"Error: An I/O error occurred while trying to open the file.\")"
      ],
      "execution_count": 9,
      "outputs": [
        {
          "output_type": "stream",
          "name": "stdout",
          "text": [
            "Error: The file could not be opened because it does not exist.\n"
          ]
        }
      ]
    },
    {
      "cell_type": "markdown",
      "metadata": {
        "id": "c6042a81"
      },
      "source": [
        "Here are the answers and code examples for your next set of questions:\n",
        "\n",
        "32. **Write a program to handle a file opening error using exception handling**"
      ]
    },
    {
      "cell_type": "code",
      "metadata": {
        "colab": {
          "base_uri": "https://localhost:8080/"
        },
        "id": "c80a2a31",
        "outputId": "966e5d67-27ac-4645-bd25-ab27c93a6bc2"
      },
      "source": [
        "    import logging\n",
        "\n",
        "    logging.basicConfig(filename='app.log', level=logging.ERROR)\n",
        "\n",
        "    try:\n",
        "        result = 10 / 0\n",
        "    except ZeroDivisionError:\n",
        "        logging.error(\"Attempted to divide by zero.\")\n",
        "        print(\"An error occurred and was logged.\")"
      ],
      "execution_count": 7,
      "outputs": [
        {
          "output_type": "stream",
          "name": "stderr",
          "text": [
            "ERROR:root:Attempted to divide by zero.\n"
          ]
        },
        {
          "output_type": "stream",
          "name": "stdout",
          "text": [
            "An error occurred and was logged.\n"
          ]
        }
      ]
    },
    {
      "cell_type": "code",
      "metadata": {
        "colab": {
          "base_uri": "https://localhost:8080/"
        },
        "id": "0f70d0fc",
        "outputId": "4d6e3cd7-1c7e-4f0e-e3ae-31773fd07972"
      },
      "source": [
        "    try:\n",
        "        result = 10 / 0\n",
        "    except ZeroDivisionError:\n",
        "        print(\"Error: Cannot divide by zero!\")"
      ],
      "execution_count": 4,
      "outputs": [
        {
          "output_type": "stream",
          "name": "stdout",
          "text": [
            "Error: Cannot divide by zero!\n"
          ]
        }
      ]
    },
    {
      "cell_type": "code",
      "metadata": {
        "colab": {
          "base_uri": "https://localhost:8080/"
        },
        "id": "3e85d067",
        "outputId": "7aa417f6-cef7-41ca-c8c5-1bd4955ae47e"
      },
      "source": [
        "    try:\n",
        "        with open('source.txt', 'r') as source_file:\n",
        "            content = source_file.read()\n",
        "\n",
        "        with open('destination.txt', 'w') as destination_file:\n",
        "            destination_file.write(content)\n",
        "\n",
        "        print(\"Content successfully copied.\")\n",
        "\n",
        "    except FileNotFoundError:\n",
        "        print(\"Error: The source file was not found.\")\n",
        "    except Exception as e:\n",
        "        print(f\"An error occurred: {e}\")"
      ],
      "execution_count": 3,
      "outputs": [
        {
          "output_type": "stream",
          "name": "stdout",
          "text": [
            "Error: The source file was not found.\n"
          ]
        }
      ]
    },
    {
      "cell_type": "code",
      "metadata": {
        "colab": {
          "base_uri": "https://localhost:8080/"
        },
        "id": "0e5d26f6",
        "outputId": "f24b1229-7da5-40dd-dff1-bce270a5959a"
      },
      "source": [
        "    try:\n",
        "        with open('non_existent_file.txt', 'r') as f:\n",
        "            content = f.read()\n",
        "            print(content)\n",
        "    except FileNotFoundError:\n",
        "        print(\"Error: The file does not exist.\")"
      ],
      "execution_count": 2,
      "outputs": [
        {
          "output_type": "stream",
          "name": "stdout",
          "text": [
            "Error: The file does not exist.\n"
          ]
        }
      ]
    },
    {
      "cell_type": "code",
      "metadata": {
        "colab": {
          "base_uri": "https://localhost:8080/"
        },
        "id": "53bf1e34",
        "outputId": "8e1feac3-4401-4083-b999-191465ce621d"
      },
      "source": [
        "    try:\n",
        "        with open('my_file.txt', 'r') as f:\n",
        "            for line in f:\n",
        "                print(line.strip()) # Use strip() to remove trailing newline characters\n",
        "    except FileNotFoundError:\n",
        "        print(\"Error: The file was not found.\")"
      ],
      "execution_count": 1,
      "outputs": [
        {
          "output_type": "stream",
          "name": "stdout",
          "text": [
            "Error: The file was not found.\n"
          ]
        }
      ]
    },
    {
      "cell_type": "markdown",
      "metadata": {
        "id": "fd0dff80"
      },
      "source": [
        "Here are the answers to your next set of questions:\n",
        "\n",
        "25. **How can you open a file for writing in Python and write a string to it?**\n",
        "\n",
        "    You can open a file for writing using the `open()` function with the mode `'w'` (write mode). If the file exists, its contents will be truncated (erased). If it doesn't exist, a new file will be created. You can then use the `write()` method to write a string to the file. It's best practice to use a `with` statement to ensure the file is automatically closed."
      ]
    },
    {
      "cell_type": "markdown",
      "metadata": {
        "id": "5e99382f"
      },
      "source": [
        "1.  **What is the difference between interpreted and compiled languages?**\n",
        "\n",
        "    *   **Interpreted languages:** Code is executed line by line by an interpreter. Examples: Python, JavaScript, Ruby.\n",
        "    *   **Compiled languages:** Code is translated into machine code before execution. Examples: C, C++, Java (though Java also involves a virtual machine).\n",
        "\n",
        "2.  **What is exception handling in Python?**\n",
        "\n",
        "    Exception handling is a mechanism to deal with errors or unexpected events that occur during the execution of a program. It allows you to gracefully handle these situations without the program crashing.\n",
        "\n",
        "3.  **What is the purpose of the finally block in exception handling?**\n",
        "\n",
        "    The `finally` block in exception handling is used to define code that will be executed regardless of whether an exception occurred or not. It is typically used for cleanup operations, such as closing files or releasing resources.\n",
        "\n",
        "4.  **What is logging in Python?**\n",
        "\n",
        "    Logging is a way to record events that happen while a program is running. It's useful for debugging, monitoring, and understanding the flow of your application. Python's `logging` module provides a flexible framework for sending log messages to various destinations.\n",
        "\n",
        "5.  **What is the significance of the __del__ method in Python?**\n",
        "\n",
        "    The `__del__` method, also known as the destructor, is a special method in Python that is called when an object is about to be destroyed or garbage collected. It's typically used for cleanup operations, although its use is often discouraged in favor of context managers (`with` statement) for resource management.\n",
        "\n",
        "6.  **What is the difference between import and from ... import in Python?**\n",
        "\n",
        "    *   **`import module_name`:** Imports the entire module. You access its contents using `module_name.item`.\n",
        "    *   **`from module_name import item`:** Imports only a specific item (e.g., a function, class, or variable) from the module. You can then use the item directly by its name.\n",
        "\n",
        "7.  **How can you handle multiple exceptions in Python?**\n",
        "\n",
        "    You can handle multiple exceptions in Python using multiple `except` blocks or by grouping exceptions in a tuple within a single `except` block."
      ]
    },
    {
      "cell_type": "markdown",
      "metadata": {
        "id": "d64771fb"
      },
      "source": [
        "8.  **What is the purpose of the with statement when handling files in Python?**\n",
        "\n",
        "    The `with` statement in Python is used for resource management, particularly with objects that have a setup and teardown phase, such as files. When used with file handling, it ensures that the file is automatically closed, even if errors occur. This helps prevent resource leaks.\n",
        "\n",
        "9.  **What is the difference between multithreading and multiprocessing?**\n",
        "\n",
        "    *   **Multithreading:** Allows multiple threads within a single process to run concurrently. Threads share the same memory space. It's good for I/O-bound tasks (tasks that spend a lot of time waiting for input/output operations).\n",
        "    *   **Multiprocessing:** Involves creating multiple independent processes, each with its own memory space. It's suitable for CPU-bound tasks (tasks that require a lot of processing power) as it can utilize multiple CPU cores.\n",
        "\n",
        "10. **What are the advantages of using logging in a program?**\n",
        "\n",
        "    Advantages of using logging include:\n",
        "    *   **Debugging:** Helps identify and diagnose issues in your code.\n",
        "    *   **Monitoring:** Provides insights into the program's behavior and performance.\n",
        "    *   **Auditing:** Creates a record of events for security or compliance purposes.\n",
        "    *   **Separation of concerns:** Keeps logging logic separate from the main program logic.\n",
        "    *   **Flexibility:** Allows you to control the level of detail and destination of log messages.\n",
        "\n",
        "11. **What is memory management in Python?**\n",
        "\n",
        "    Memory management in Python involves the allocation and deallocation of memory for objects. Python uses a private heap to store objects and has an automatic garbage collector to reclaim memory that is no longer being used.\n",
        "\n",
        "12. **What are the basic steps involved in exception handling in Python?**\n",
        "\n",
        "    The basic steps involved in exception handling in Python are:\n",
        "    *   **`try` block:** The code that might raise an exception is placed inside the `try` block.\n",
        "    *   **`except` block:** If an exception occurs in the `try` block, the code in the corresponding `except` block is executed.\n",
        "    *   **`else` block (optional):** The code in the `else` block is executed if no exception occurs in the `try` block.\n",
        "    *   **`finally` block (optional):** The code in the `finally` block is always executed, regardless of whether an exception occurred or not.\n",
        "\n",
        "13. **Why is memory management important in Python?**\n",
        "\n",
        "    Memory management is important in Python (and programming in general) for several reasons:\n",
        "    *   **Efficiency:** Efficient memory usage can improve program performance.\n",
        "    *   **Stability:** Poor memory management can lead to crashes, memory leaks (where memory is not released), and other issues.\n",
        "    *   **Resource utilization:** Proper memory management ensures that system resources are used effectively.\n",
        "\n",
        "14. **What is the role of try and except in exception handling?**\n",
        "\n",
        "    *   **`try`:** The `try` block contains the code that you want to monitor for exceptions. If an exception occurs within the `try` block, Python stops executing the rest of the code in that block and looks for a matching `except` block.\n",
        "    *   **`except`:** The `except` block specifies how to handle a particular type of exception. If an exception that matches the `except` block's type occurs in the `try` block, the code within the `except` block is executed. This allows you to gracefully handle the error and prevent the program from crashing."
      ]
    },
    {
      "cell_type": "markdown",
      "metadata": {
        "id": "c11800ea"
      },
      "source": [
        "15. **How does Python's garbage collection system work?**\n",
        "\n",
        "    Python uses a combination of reference counting and a cyclic garbage collector. Reference counting keeps track of the number of references to an object. When the reference count drops to zero, the object is deallocated. The cyclic garbage collector handles objects that have circular references, which reference counting alone cannot detect.\n",
        "\n",
        "16. **What is the purpose of the else block in exception handling?**\n",
        "\n",
        "    The `else` block in exception handling is executed only if no exception occurs in the `try` block. It's often used for code that should run only when the code in the `try` block succeeds without raising an error.\n",
        "\n",
        "17. **What are the common logging levels in Python?**\n",
        "\n",
        "    The common logging levels in Python, in increasing order of severity, are:\n",
        "    *   `DEBUG`: Detailed information, typically used for debugging.\n",
        "    *   `INFO`: Confirmation that things are working as expected.\n",
        "    *   `WARNING`: An indication that something unexpected happened, or might happen in the near future (e.g., 'disk space low').\n",
        "    *   `ERROR`: Due to a more serious problem, the software has not been able to perform some function.\n",
        "    *   `CRITICAL`: A serious error, indicating that the program itself may be unable to continue running.\n",
        "\n",
        "18. **What is the difference between os.fork() and multiprocessing in Python?**\n",
        "\n",
        "    *   **`os.fork()`:** Creates a new process by duplicating the current process. It's a lower-level function and is only available on Unix-like systems. The child process inherits the parent's memory space, but it's a copy, so changes in one don't affect the other.\n",
        "    *   **`multiprocessing` module:** Provides a higher-level, platform-independent way to create and manage processes. It uses processes instead of threads, giving each process its own memory space, which avoids the Global Interpreter Lock (GIL) and allows for true parallelism on multi-core processors.\n",
        "\n",
        "19. **What is the importance of closing a file in Python?**\n",
        "\n",
        "    Closing a file in Python is important to:\n",
        "    *   **Release resources:** It frees up system resources associated with the file.\n",
        "    *   **Ensure data is written:** It flushes any buffered data to the file, ensuring that all the data you intended to write is actually saved.\n",
        "    *   **Prevent data corruption:** Leaving files open unnecessarily can lead to data corruption or unexpected behavior.\n",
        "\n",
        "20. **What is the difference between file.read() and file.readline() in Python?**\n",
        "\n",
        "    *   **`file.read(size)`:** Reads the entire content of the file as a single string, or if a `size` argument is provided, it reads at most `size` bytes.\n",
        "    *   **`file.readline()`:** Reads a single line from the file, including the newline character at the end.\n",
        "\n",
        "21. **What is the logging module in Python used for?**\n",
        "\n",
        "    The `logging` module in Python is used for recording events that occur during the execution of a program. It provides a standardized and flexible way to send log messages to various destinations, such as the console, files, or even network sockets. It's essential for debugging, monitoring, and understanding the behavior of your applications."
      ]
    },
    {
      "cell_type": "markdown",
      "metadata": {
        "id": "67b55843"
      },
      "source": [
        "22. **What is the `os` module in Python used for in file handling?**\n",
        "\n",
        "    The `os` module in Python provides a way to interact with the operating system. In file handling, it's used for tasks like:\n",
        "    *   Creating, deleting, and renaming directories.\n",
        "    *   Changing the current working directory.\n",
        "    *   Getting information about files and directories (e.g., size, permissions).\n",
        "    *   Joining or splitting file paths.\n",
        "\n",
        "23. **What are the challenges associated with memory management in Python?**\n",
        "\n",
        "    While Python's automatic memory management is convenient, challenges can include:\n",
        "    *   **Memory leaks:** Although less common than in languages without garbage collection, circular references can sometimes prevent objects from being deallocated, leading to memory leaks.\n",
        "    *   **Performance overhead:** The garbage collection process itself can introduce a slight performance overhead.\n",
        "    *   **Unpredictable deallocation:** The exact timing of when objects are garbage collected can be unpredictable, which can be an issue in resource-critical applications.\n",
        "\n",
        "24. **How do you raise an exception manually in Python?**\n",
        "\n",
        "    You can raise an exception manually in Python using the `raise` keyword, followed by the exception type and an optional value (which can be an instance of the exception or an argument to its constructor)."
      ]
    }
  ]
}