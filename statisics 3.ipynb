{
  "nbformat": 4,
  "nbformat_minor": 0,
  "metadata": {
    "colab": {
      "provenance": []
    },
    "kernelspec": {
      "name": "python3",
      "display_name": "Python 3"
    },
    "language_info": {
      "name": "python"
    }
  },
  "cells": [
    {
      "cell_type": "markdown",
      "metadata": {
        "id": "369d29ee"
      },
      "source": [
        "## Assignment: Question 2 - Hypothesis Testing in Colab\n",
        "\n",
        "Let's demonstrate hypothesis testing using a one-sample t-test in Python.\n",
        "\n",
        "We will test if the mean of a sample is significantly different from a hypothetical population mean.\n",
        "\n",
        "**Hypotheses:**\n",
        "\n",
        "*   **Null Hypothesis (\\(H_0\\)):** The sample mean is equal to the population mean (\\(\\mu = 50\\)).\n",
        "*   **Alternative Hypothesis (\\(H_1\\)):** The sample mean is not equal to the population mean (\\(\\mu \\neq 50\\)).\n",
        "\n",
        "We will use a significance level (\\(\\alpha\\)) of 0.05."
      ]
    },
    {
      "cell_type": "code",
      "metadata": {
        "colab": {
          "base_uri": "https://localhost:8080/"
        },
        "id": "d591314b",
        "outputId": "a02a1010-c859-4ba5-ce58-b7cff1809fa0"
      },
      "source": [
        "import numpy as np\n",
        "from scipy import stats\n",
        "\n",
        "# Generate some sample data\n",
        "# Let's create a sample with a mean slightly different from our hypothetical population mean\n",
        "sample_data = np.random.normal(loc=52, scale=10, size=30)\n",
        "\n",
        "# Hypothetical population mean\n",
        "population_mean = 50\n",
        "\n",
        "# Perform the one-sample t-test\n",
        "t_statistic, p_value = stats.ttest_1samp(sample_data, population_mean)\n",
        "\n",
        "# Print the results\n",
        "print(f\"Sample Mean: {np.mean(sample_data):.2f}\")\n",
        "print(f\"T-statistic: {t_statistic:.4f}\")\n",
        "print(f\"P-value: {p_value:.4f}\")\n",
        "\n",
        "# Make a decision based on the p-value and alpha\n",
        "alpha = 0.05\n",
        "\n",
        "print(f\"\\nSignificance Level (alpha): {alpha}\")\n",
        "\n",
        "if p_value <= alpha:\n",
        "    print(\"Decision: Reject the null hypothesis.\")\n",
        "    print(\"Conclusion: There is sufficient evidence to suggest that the sample mean is significantly different from the population mean.\")\n",
        "else:\n",
        "    print(\"Decision: Fail to reject the null hypothesis.\")\n",
        "    print(\"Conclusion: There is not enough evidence to suggest that the sample mean is significantly different from the population mean.\")"
      ],
      "execution_count": 1,
      "outputs": [
        {
          "output_type": "stream",
          "name": "stdout",
          "text": [
            "Sample Mean: 51.41\n",
            "T-statistic: 0.7311\n",
            "P-value: 0.4706\n",
            "\n",
            "Significance Level (alpha): 0.05\n",
            "Decision: Fail to reject the null hypothesis.\n",
            "Conclusion: There is not enough evidence to suggest that the sample mean is significantly different from the population mean.\n"
          ]
        }
      ]
    },
    {
      "cell_type": "markdown",
      "metadata": {
        "id": "14900daa"
      },
      "source": [
        "## Assignment: Question 3 - Null vs. Alternative Hypothesis\n",
        "\n",
        "**Question:** What is the null hypothesis, and how does it differ from the alternative hypothesis?\n",
        "\n",
        "**Answer:**\n",
        "\n",
        "In hypothesis testing, we have two competing statements about a population:\n",
        "\n",
        "1.  **Null Hypothesis (\\(H_0\\)):**\n",
        "    *   This is the **statement of no effect, no difference, or no relationship.**\n",
        "    *   It is the claim that is **initially assumed to be true** for the purpose of testing.\n",
        "    *   Researchers typically aim to find evidence *against* the null hypothesis.\n",
        "    *   Think of it as the \"status quo\" or the commonly accepted belief.\n",
        "    *   In the context of our previous example, the null hypothesis was \\(H_0: \\mu = 50\\), meaning the sample mean is equal to the population mean of 50.\n",
        "\n",
        "2.  **Alternative Hypothesis (\\(H_1\\) or \\(H_a\\)):**\n",
        "    *   This is the **statement that contradicts the null hypothesis.**\n",
        "    *   It is the claim that the researcher is **trying to find evidence for.**\n",
        "    *   If the null hypothesis is rejected, the alternative hypothesis is supported.\n",
        "    *   It can be directional (e.g., greater than, less than) or non-directional (e.g., not equal to).\n",
        "    *   In our previous example, the alternative hypothesis was \\(H_1: \\mu \\neq 50\\), meaning the sample mean is significantly different from the population mean of 50.\n",
        "\n",
        "**Key Differences:**\n",
        "\n",
        "*   **Starting Point:** The null hypothesis is the initial assumption, while the alternative hypothesis is what you are trying to prove.\n",
        "*   **Goal of Testing:** The goal is to find enough evidence to *reject* the null hypothesis in favor of the alternative hypothesis.\n",
        "*   **Nature of Statement:** The null hypothesis often represents the absence of an effect, while the alternative hypothesis suggests the presence of an effect or difference.\n",
        "\n",
        "Essentially, hypothesis testing is a process of weighing the evidence from your sample data to see if it is strong enough to reject the initial assumption (the null hypothesis) and support the alternative hypothesis."
      ]
    },
    {
      "cell_type": "markdown",
      "metadata": {
        "id": "78f2475b"
      },
      "source": [
        "## Assignment: Question 4 - Significance Level\n",
        "\n",
        "**Question:** Explain the significance level in hypothesis testing and its role in deciding the outcome of a test.\n",
        "\n",
        "**Answer:**\n",
        "\n",
        "The **significance level**, often denoted by the Greek letter alpha (\\(\\alpha\\)), is a crucial threshold in hypothesis testing. It represents the **probability of rejecting the null hypothesis (\\(H_0\\)) when it is actually true.** This is also known as a **Type I error** or a **false positive**.\n",
        "\n",
        "Here's a breakdown of its role:\n",
        "\n",
        "*   **Setting the Threshold:** Before conducting a hypothesis test, a significance level is chosen. Common values for \\(\\alpha\\) are 0.05 (or 5%), 0.01 (or 1%), and 0.10 (or 10%). The choice of \\(\\alpha\\) depends on the field of study and the consequences of making a Type I error. A smaller \\(\\alpha\\) reduces the risk of a Type I error but increases the risk of a Type II error (failing to reject the null hypothesis when it is false).\n",
        "\n",
        "*   **Decision Rule:** The significance level is used to establish a decision rule for the hypothesis test. This rule is based on comparing the calculated p-value from the sample data to the chosen \\(\\alpha\\).\n",
        "\n",
        "*   **Role in Decision Making:**\n",
        "    *   **If the p-value \\(\\le \\alpha\\):** The observed data is considered statistically significant at the chosen significance level. This means that the probability of obtaining the observed results (or more extreme results), assuming the null hypothesis is true, is low. In this case, we **reject the null hypothesis**. We conclude that there is sufficient evidence to support the alternative hypothesis.\n",
        "    *   **If the p-value \\( > \\alpha\\):** The observed data is not considered statistically significant at the chosen significance level. This means that the probability of obtaining the observed results (or more extreme results), assuming the null hypothesis is true, is not low enough to reject the null hypothesis. In this case, we **fail to reject the null hypothesis**. We conclude that there is not enough evidence to support the alternative hypothesis.\n",
        "\n",
        "In simpler terms, the significance level is the acceptable level of risk we are willing to take of incorrectly rejecting the null hypothesis. If the p-value is below this threshold, it suggests that the observed results are unlikely to have occurred by random chance if the null hypothesis were true, leading us to reject the null hypothesis.\n",
        "\n",
        "Let me know if you'd like to explore the concept of p-value or Type I/Type II errors next!"
      ]
    },
    {
      "cell_type": "markdown",
      "metadata": {
        "id": "439dc415"
      },
      "source": [
        "## Assignment: Question 5 - Type I and Type II Errors\n",
        "\n",
        "**Question:** What are Type I and Type II errors? Give examples of each.\n",
        "\n",
        "**Answer:**\n",
        "\n",
        "In hypothesis testing, since we are making decisions based on sample data rather than the entire population, there's always a risk of making an incorrect decision. The two main types of errors are:\n",
        "\n",
        "1.  **Type I Error (False Positive):**\n",
        "    *   **Definition:** This occurs when you **reject the null hypothesis (\\(H_0\\)) when it is actually true.**\n",
        "    *   **Risk:** The probability of making a Type I error is equal to the significance level (\\(\\alpha\\)).\n",
        "    *   **Analogy:** Think of a medical test for a disease. A Type I error would be a \"false positive\" – the test says you have the disease, but you actually don't.\n",
        "    *   **Example:** In a clinical trial, the null hypothesis might be that a new drug has no effect. A Type I error would be concluding that the drug *does* have an effect when, in reality, it doesn't.\n",
        "\n",
        "2.  **Type II Error (False Negative):**\n",
        "    *   **Definition:** This occurs when you **fail to reject the null hypothesis (\\(H_0\\)) when it is actually false.**\n",
        "    *   **Risk:** The probability of making a Type II error is often denoted by \\(\\beta\\) (beta). The power of a test (1 - \\(\\beta\\)) is the probability of correctly rejecting a false null hypothesis.\n",
        "    *   **Analogy:** Using the medical test analogy, a Type II error would be a \"false negative\" – the test says you don't have the disease, but you actually do.\n",
        "    *   **Example:** In the same clinical trial example, a Type II error would be concluding that the new drug has *no* effect when, in reality, it *does* have a significant effect.\n",
        "\n",
        "**Summary Table:**\n",
        "\n",
        "|                   | **Actual Condition: \\(H_0\\) is True** | **Actual Condition: \\(H_0\\) is False** |\n",
        "| :---------------- | :-------------------------------------- | :--------------------------------------- |\n",
        "| **Decision: Fail to Reject \\(H_0\\)** | Correct Decision                      | Type II Error (False Negative)           |\n",
        "| **Decision: Reject \\(H_0\\)**       | Type I Error (False Positive)         | Correct Decision (Power of the Test)   |\n",
        "\n",
        "Understanding these errors helps researchers choose an appropriate significance level and sample size to balance the risks of making incorrect conclusions.\n",
        "\n",
        "What other concepts in hypothesis testing would you like to explore?"
      ]
    },
    {
      "cell_type": "markdown",
      "metadata": {
        "id": "539d6b4f"
      },
      "source": [
        "## Assignment: Question 6 - Z-test vs. T-test\n",
        "\n",
        "**Question:** What is the difference between a Z-test and a T-test? Explain when to use each.\n",
        "\n",
        "**Answer:**\n",
        "\n",
        "Both the Z-test and the T-test are statistical tests used to compare means and make inferences about a population based on sample data. The primary difference lies in the information available about the **population standard deviation** and the **sample size**.\n",
        "\n",
        "Here's a breakdown:\n",
        "\n",
        "1.  **Z-test:**\n",
        "    *   **When to Use:** A Z-test is typically used when you know the **population standard deviation (\\(\\sigma\\))**. It can also be used with a large sample size (generally \\(n \\ge 30\\)), even if the population standard deviation is unknown, because the sample standard deviation becomes a good estimate of the population standard deviation for large samples.\n",
        "    *   **Assumptions:**\n",
        "        *   The data is normally distributed.\n",
        "        *   The population standard deviation is known.\n",
        "        *   The samples are independent.\n",
        "    *   **Test Statistic:** The test statistic follows a standard normal distribution (Z-distribution).\n",
        "\n",
        "2.  **T-test:**\n",
        "    *   **When to Use:** A T-test is used when the **population standard deviation (\\(\\sigma\\)) is unknown** and you have to estimate it using the **sample standard deviation (s)**. It is particularly useful for **small sample sizes** (\\(n < 30\\)), where the sample standard deviation may not be a precise estimate of the population standard deviation.\n",
        "    *   **Assumptions:**\n",
        "        *   The data is approximately normally distributed (especially for smaller sample sizes).\n",
        "        *   The population standard deviation is unknown.\n",
        "        *   The samples are independent (for independent samples t-test).\n",
        "    *   **Test Statistic:** The test statistic follows a t-distribution, which has heavier tails than the Z-distribution, accounting for the increased uncertainty due to estimating the population standard deviation from a small sample. The shape of the t-distribution depends on the degrees of freedom, which are related to the sample size.\n",
        "\n",
        "**Key Differences Summarized:**\n",
        "\n",
        "| Feature                      | Z-test                                    | T-test                                     |\n",
        "| :--------------------------- | :---------------------------------------- | :----------------------------------------- |\n",
        "| **Population Standard Deviation** | Known                                     | Unknown (estimated from sample)            |\n",
        "| **Sample Size**              | Large (\\(n \\ge 30\\)) or population SD known | Small (\\(n < 30\\)) or population SD unknown |\n",
        "| **Distribution of Test Statistic** | Standard Normal (Z-distribution)        | t-distribution                             |\n",
        "\n",
        "In practice, the t-test is more commonly used because the population standard deviation is rarely known. However, for large sample sizes, the t-distribution closely approximates the Z-distribution, and the results of a t-test and a Z-test will be very similar.\n",
        "\n",
        "Would you like to see examples of when you might use each test in practice, or perhaps move on to another topic?"
      ]
    },
    {
      "cell_type": "markdown",
      "metadata": {
        "id": "e57e3784"
      },
      "source": [
        "## Assignment: Question 7 - Binomial Distribution\n",
        "\n",
        "**Question:** Write a Python program to generate a binomial distribution with n=10 and p=0.5, then plot its histogram."
      ]
    },
    {
      "cell_type": "code",
      "metadata": {
        "colab": {
          "base_uri": "https://localhost:8080/",
          "height": 472
        },
        "id": "68cff998",
        "outputId": "a3397a8a-7bc7-425a-98fe-727c5640cb9d"
      },
      "source": [
        "import numpy as np\n",
        "import matplotlib.pyplot as plt\n",
        "\n",
        "# Parameters for the binomial distribution\n",
        "n = 10  # number of trials\n",
        "p = 0.5  # probability of success\n",
        "\n",
        "# Generate random numbers from the binomial distribution\n",
        "# We'll generate a large number of samples to see the distribution clearly\n",
        "sample_size = 1000\n",
        "binomial_data = np.random.binomial(n, p, size=sample_size)\n",
        "\n",
        "# Plot the histogram\n",
        "plt.hist(binomial_data, bins=np.arange(n+2) - 0.5, edgecolor='black', density=True)\n",
        "plt.xlabel(\"Number of Successes\")\n",
        "plt.ylabel(\"Probability\")\n",
        "plt.title(f\"Binomial Distribution (n={n}, p={p})\")\n",
        "plt.xticks(np.arange(n+1))\n",
        "plt.grid(axis='y', alpha=0.75)\n",
        "plt.show()"
      ],
      "execution_count": 2,
      "outputs": [
        {
          "output_type": "display_data",
          "data": {
            "text/plain": [
              "<Figure size 640x480 with 1 Axes>"
            ],
            "image/png": "[encoded data removed]"
          },
          "metadata": {}
        }
      ]
    },
    {
      "cell_type": "markdown",
      "metadata": {
        "id": "d10cd605"
      },
      "source": [
        "## Assignment: Question 8 - Z-test Implementation\n",
        "\n",
        "**Question:** Implement hypothesis testing using Z-statistics for a sample dataset in Python. Show the Python code and interpret the results.\n",
        "\n",
        "**Sample Data:**"
      ]
    },
    {
      "cell_type": "code",
      "metadata": {
        "colab": {
          "base_uri": "https://localhost:8080/"
        },
        "id": "af195579",
        "outputId": "39eec96d-6f80-4696-8481-e9abe2d3d68d"
      },
      "source": [
        "import numpy as np\n",
        "from statsmodels.stats.weightstats import ztest\n",
        "\n",
        "# Sample data provided by the user\n",
        "sample_data = [49.1, 50.2, 51.0, 48.7, 50.5, 49.8, 50.3, 50.7, 50.2, 49.6,\n",
        "               50.1, 49.9, 50.8, 50.4, 48.9, 50.6, 50.0, 49.7, 50.2, 49.5,\n",
        "               50.1, 50.3, 50.4, 50.5, 50.0, 50.7, 49.3, 49.8, 50.2, 50.9,\n",
        "               50.3, 50.4, 50.0, 49.7, 50.5, 49.9]\n",
        "\n",
        "# Convert the sample data to a NumPy array\n",
        "sample_data = np.array(sample_data)\n",
        "\n",
        "# Hypothetical population mean (for the null hypothesis)\n",
        "# Let's assume the population mean is 50\n",
        "population_mean = 50\n",
        "\n",
        "# Perform the one-sample Z-test\n",
        "# The ztest function from statsmodels can perform a Z-test.\n",
        "# When the population standard deviation is unknown and the sample size is large,\n",
        "# we can use the sample standard deviation as an estimate.\n",
        "# The ztest function calculates the standard deviation from the sample data by default.\n",
        "z_statistic, p_value = ztest(sample_data, value=population_mean)\n",
        "\n",
        "\n",
        "# Print the results\n",
        "print(f\"Sample Mean: {np.mean(sample_data):.2f}\")\n",
        "print(f\"Hypothetical Population Mean: {population_mean}\")\n",
        "# The ztest function uses the sample standard deviation when population std is not provided.\n",
        "print(f\"Calculated Sample Standard Deviation: {np.std(sample_data, ddof=1):.2f}\")\n",
        "print(f\"Z-statistic: {z_statistic:.4f}\")\n",
        "print(f\"P-value: {p_value:.4f}\")\n",
        "\n",
        "# Make a decision based on the p-value and alpha\n",
        "alpha = 0.05\n",
        "\n",
        "print(f\"\\nSignificance Level (alpha): {alpha}\")\n",
        "\n",
        "if p_value <= alpha:\n",
        "    print(\"Decision: Reject the null hypothesis.\")\n",
        "    print(\"Conclusion: There is sufficient evidence to suggest that the sample mean is significantly different from the population mean.\")\n",
        "else:\n",
        "    print(\"Decision: Fail to reject the null hypothesis.\")\n",
        "    print(\"Conclusion: There is not enough evidence to suggest that the sample mean is significantly different from the population mean.\")"
      ],
      "execution_count": 5,
      "outputs": [
        {
          "output_type": "stream",
          "name": "stdout",
          "text": [
            "Sample Mean: 50.09\n",
            "Hypothetical Population Mean: 50\n",
            "Calculated Sample Standard Deviation: 0.54\n",
            "Z-statistic: 0.9940\n",
            "P-value: 0.3202\n",
            "\n",
            "Significance Level (alpha): 0.05\n",
            "Decision: Fail to reject the null hypothesis.\n",
            "Conclusion: There is not enough evidence to suggest that the sample mean is significantly different from the population mean.\n"
          ]
        }
      ]
    },
    {
      "cell_type": "markdown",
      "metadata": {
        "id": "98399afe"
      },
      "source": [
        "## Assignment: Question 9 - Normal Distribution and Confidence Interval\n",
        "\n",
        "**Question:** Write a Python script to simulate data from a normal distribution and calculate the 95% confidence interval for its mean. Plot the data using Matplotlib."
      ]
    },
    {
      "cell_type": "code",
      "metadata": {
        "colab": {
          "base_uri": "https://localhost:8080/",
          "height": 507
        },
        "id": "51c82004",
        "outputId": "22a2ce27-f1fd-4709-97c1-1473d15035e2"
      },
      "source": [
        "import numpy as np\n",
        "import matplotlib.pyplot as plt\n",
        "from scipy import stats\n",
        "\n",
        "# Parameters for the normal distribution\n",
        "mean = 50\n",
        "std_dev = 5\n",
        "sample_size = 1000\n",
        "\n",
        "# Simulate data from a normal distribution\n",
        "normal_data = np.random.normal(loc=mean, scale=std_dev, size=sample_size)\n",
        "\n",
        "# Calculate the 95% confidence interval for the mean\n",
        "# For a normal distribution and a large sample size, we can use the Z-distribution\n",
        "# For smaller sample sizes or unknown population standard deviation, a t-distribution is more appropriate.\n",
        "# We'll use the t-distribution since we are estimating the population standard deviation from the sample.\n",
        "confidence_level = 0.95\n",
        "degrees_freedom = sample_size - 1\n",
        "sample_mean = np.mean(normal_data)\n",
        "sample_std_err = stats.sem(normal_data) # Standard error of the mean\n",
        "\n",
        "confidence_interval = stats.t.interval(confidence_level,\n",
        "                                       degrees_freedom,\n",
        "                                       loc=sample_mean,\n",
        "                                       scale=sample_std_err)\n",
        "\n",
        "\n",
        "# Print the results\n",
        "print(f\"Sample Mean: {sample_mean:.2f}\")\n",
        "print(f\"95% Confidence Interval for the Mean: ({confidence_interval[0]:.2f}, {confidence_interval[1]:.2f})\")\n",
        "\n",
        "# Plot the histogram of the simulated data\n",
        "plt.hist(normal_data, bins=30, density=True, alpha=0.6, color='g')\n",
        "plt.xlabel(\"Value\")\n",
        "plt.ylabel(\"Frequency\")\n",
        "plt.title(\"Histogram of Simulated Normal Distribution Data\")\n",
        "plt.grid(axis='y', alpha=0.75)\n",
        "\n",
        "# Add vertical lines for the confidence interval\n",
        "plt.axvline(confidence_interval[0], color='r', linestyle='dashed', linewidth=2, label=f'{confidence_level*100:.0f}% CI')\n",
        "plt.axvline(confidence_interval[1], color='r', linestyle='dashed', linewidth=2)\n",
        "plt.legend()\n",
        "\n",
        "plt.show()"
      ],
      "execution_count": 6,
      "outputs": [
        {
          "output_type": "stream",
          "name": "stdout",
          "text": [
            "Sample Mean: 49.87\n",
            "95% Confidence Interval for the Mean: (49.56, 50.18)\n"
          ]
        },
        {
          "output_type": "display_data",
          "data": {
            "text/plain": [
              "<Figure size 640x480 with 1 Axes>"
            ],
            "image/png": "[encoded data removed]"
          },
          "metadata": {}
        }
      ]
    },
    {
      "cell_type": "markdown",
      "metadata": {
        "id": "768649e6"
      },
      "source": [
        "## Assignment: Question 10 - Z-scores and Standardization\n",
        "\n",
        "**Question:** Write a Python function to calculate the Z-scores from a dataset and visualize the standardized data using a histogram. Explain what the Z-scores represent in terms of standard deviations from the mean."
      ]
    },
    {
      "cell_type": "code",
      "metadata": {
        "colab": {
          "base_uri": "https://localhost:8080/",
          "height": 698
        },
        "id": "0a702dd3",
        "outputId": "73506daf-5ea0-4949-f7ea-5cd4dc77203d"
      },
      "source": [
        "import numpy as np\n",
        "import matplotlib.pyplot as plt\n",
        "from scipy import stats\n",
        "\n",
        "def calculate_and_visualize_zscores(data):\n",
        "    \"\"\"\n",
        "    Calculates the Z-scores for a dataset, visualizes the standardized data,\n",
        "    and explains what Z-scores represent.\n",
        "\n",
        "    Args:\n",
        "        data (array-like): The input dataset.\n",
        "    \"\"\"\n",
        "    # Convert data to a NumPy array\n",
        "    data = np.array(data)\n",
        "\n",
        "    # Calculate the mean and standard deviation of the data\n",
        "    mean = np.mean(data)\n",
        "    std_dev = np.std(data)\n",
        "\n",
        "    # Calculate the Z-scores\n",
        "    # Z-score = (x - mean) / standard deviation\n",
        "    z_scores = (data - mean) / std_dev\n",
        "\n",
        "    # Print the first few Z-scores and the original data for comparison\n",
        "    print(\"Original Data (first 5):\", data[:5])\n",
        "    print(\"Z-scores (first 5):\", z_scores[:5])\n",
        "    print(f\"\\nMean of Z-scores: {np.mean(z_scores):.2f}\")\n",
        "    print(f\"Standard Deviation of Z-scores: {np.std(z_scores):.2f}\")\n",
        "\n",
        "\n",
        "    # Plot the histogram of the standardized data (Z-scores)\n",
        "    plt.hist(z_scores, bins=30, density=True, alpha=0.6, color='purple')\n",
        "    plt.xlabel(\"Z-score\")\n",
        "    plt.ylabel(\"Frequency\")\n",
        "    plt.title(\"Histogram of Standardized Data (Z-scores)\")\n",
        "    plt.grid(axis='y', alpha=0.75)\n",
        "    plt.show()\n",
        "\n",
        "    # Explain what Z-scores represent\n",
        "    print(\"\\nExplanation of Z-scores:\")\n",
        "    print(\"A Z-score measures how many standard deviations away a particular data point is from the mean of the dataset.\")\n",
        "    print(\"- A Z-score of 0 means the data point is equal to the mean.\")\n",
        "    print(\"- A positive Z-score means the data point is above the mean.\")\n",
        "    print(\"- A negative Z-score means the data point is below the mean.\")\n",
        "    print(\"For example, a Z-score of 1.5 means the data point is 1.5 standard deviations above the mean.\")\n",
        "    print(\"Standardizing data using Z-scores results in a distribution with a mean of 0 and a standard deviation of 1.\")\n",
        "\n",
        "\n",
        "# Example usage with some sample data\n",
        "sample_data = [49.1, 50.2, 51.0, 48.7, 50.5, 49.8, 50.3, 50.7, 50.2, 49.6,\n",
        "               50.1, 49.9, 50.8, 50.4, 48.9, 50.6, 50.0, 49.7, 50.2, 49.5,\n",
        "               50.1, 50.3, 50.4, 50.5, 50.0, 50.7, 49.3, 49.8, 50.2, 50.9,\n",
        "               50.3, 50.4, 50.0, 49.7, 50.5, 49.9]\n",
        "\n",
        "calculate_and_visualize_zscores(sample_data)"
      ],
      "execution_count": 7,
      "outputs": [
        {
          "output_type": "stream",
          "name": "stdout",
          "text": [
            "Original Data (first 5): [49.1 50.2 51.  48.7 50.5]\n",
            "Z-scores (first 5): [-1.86923647  0.21002657  1.72221787 -2.62533213  0.77709831]\n",
            "\n",
            "Mean of Z-scores: 0.00\n",
            "Standard Deviation of Z-scores: 1.00\n"
          ]
        },
        {
          "output_type": "display_data",
          "data": {
            "text/plain": [
              "<Figure size 640x480 with 1 Axes>"
            ],
            "image/png": "[encoded data removed]"
          },
          "metadata": {}
        },
        {
          "output_type": "stream",
          "name": "stdout",
          "text": [
            "\n",
            "Explanation of Z-scores:\n",
            "A Z-score measures how many standard deviations away a particular data point is from the mean of the dataset.\n",
            "- A Z-score of 0 means the data point is equal to the mean.\n",
            "- A positive Z-score means the data point is above the mean.\n",
            "- A negative Z-score means the data point is below the mean.\n",
            "For example, a Z-score of 1.5 means the data point is 1.5 standard deviations above the mean.\n",
            "Standardizing data using Z-scores results in a distribution with a mean of 0 and a standard deviation of 1.\n"
          ]
        }
      ]
    }
  ]
}