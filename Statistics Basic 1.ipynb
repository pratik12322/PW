{
  "nbformat": 4,
  "nbformat_minor": 0,
  "metadata": {
    "colab": {
      "provenance": []
    },
    "kernelspec": {
      "name": "python3",
      "display_name": "Python 3"
    },
    "language_info": {
      "name": "python"
    }
  },
  "cells": [
    {
      "cell_type": "markdown",
      "source": [
        " 1.  What is the difference between descriptive statistics and inferential\n",
        "statistics? Explain with examples.\n",
        "\n",
        "Ans. 1. Descriptive Statistics:\n",
        "Descriptive statistics involve methods to summarize, organize, and present data in a\n",
        "meaningful way, focusing on describing the characteristics of a dataset without making\n",
        "generalizations beyond it. These methods include measures of central tendency (e.g., mean,\n",
        "median, mode), measures of dispersion (e.g., range, variance, standard deviation), and data\n",
        "visualization techniques (e.g., histograms, pie charts).\n",
        "● Purpose: To provide a clear and concise summary of the data’s key features.\n",
        "● Scope: Limited to the sample or dataset being analyzed.\n",
        "● Example: Suppose a researcher collects test scores from 50 students in a class. They\n",
        "calculate the average score (mean) as 75, the median as 73, and the standard\n",
        "deviation as 10. They also create a histogram to visualize the distribution of scores.\n",
        "These summaries describe the performance of this specific group without making\n",
        "claims about other classes or populations.\n",
        "2. Inferential Statistics:\n",
        "Inferential statistics involve techniques that allow us to make generalizations, predictions, or\n",
        "conclusions about a population based on a sample of data. These methods rely on probability\n",
        "theory and include hypothesis testing, confidence intervals, and regression analysis to infer\n",
        "properties of a larger population.\n",
        "● Purpose: To draw conclusions or make predictions about a population based on\n",
        "sample data.\n",
        "● Scope: Extends beyond the sample to make inferences about a larger population.\n",
        "● Example: Using the same test scores from 50 students, the researcher might want to infer whether the class’s performance reflects the performance of all students in the\n",
        "school (the population). They could use a t-test to determine if the class’s mean score\n",
        "of 75 is significantly different from the school’s historical average of 70, or construct a\n",
        "95% confidence interval to estimate the range within which the true population mean\n",
        "lies.\n",
        "Key Differences:\n",
        "1. Objective:\n",
        "○ Descriptive statistics aim to describe and summarize data (e.g., calculating the\n",
        "average height of students in a classroom).\n",
        "○ Inferential statistics aim to make predictions or generalizations about a\n",
        "population (e.g., estimating the average height of all students in a school\n",
        "based on a sample).\n",
        "2. Scope:\n",
        "○ Descriptive statistics are limited to the dataset at hand.\n",
        "○ Inferential statistics extend findings to a broader population.\n",
        "3. Techniques:\n",
        "○ Descriptive statistics use measures like mean, median, and graphs.\n",
        "○ Inferential statistics use tools like hypothesis tests, p-values, and confidence\n",
        "intervals.\n",
        "4. Example Application:\n",
        "○ Descriptive: A company reports that 60% of its 100 employees are satisfied\n",
        "with their jobs based on a survey (summarizing the sample).\n",
        "○ Inferential: The company uses the survey data to estimate that 60% ± 5% of all\n",
        "employees across its branches are satisfied, with 95% confidence."
      ],
      "metadata": {
        "id": "wfm9fMjSdlFq"
      }
    },
    {
      "cell_type": "markdown",
      "metadata": {
        "id": "3285faeb"
      },
      "source": [
        "# What is sampling in statistics? Explain the differences between random and stratified sampling.\n",
        "\n",
        "**Sampling** in statistics is the process of selecting a subset of individuals or items from a larger population to collect data and make inferences about the entire population. Since it is often impractical or impossible to collect data from every member of a population, sampling allows researchers to study a smaller, representative group to draw conclusions about the larger group.\n",
        "\n",
        "Here are the key differences between **Random Sampling** and **Stratified Sampling**:\n",
        "\n",
        "**1. Random Sampling (Simple Random Sampling):**\n",
        "\n",
        "*   **Definition:** In simple random sampling, every member of the population has an equal chance of being selected for the sample. The selection is done randomly, often using methods like random number generators or drawing names from a hat.\n",
        "*   **Process:**\n",
        "    1.  Define the population.\n",
        "    2.  Create a list of all members in the population (sampling frame).\n",
        "    3.  Use a random method to select the desired number of individuals from the list.\n",
        "*   **Advantages:**\n",
        "    *   Simple to understand and implement.\n",
        "    *   Minimizes bias as every member has an equal chance of selection.\n",
        "    *   Provides a representative sample if the population is relatively homogeneous.\n",
        "*   **Disadvantages:**\n",
        "    *   May not be efficient if the population is diverse with distinct subgroups.\n",
        "    *   Can be difficult to create a complete and accurate sampling frame for large populations.\n",
        "    *   May result in a sample that does not adequately represent smaller subgroups within the population.\n",
        "*   **Example:** Suppose you want to survey 100 students from a school of 1000 students. In simple random sampling, you would put all 1000 student names into a hat and randomly draw out 100 names.\n",
        "\n",
        "**2. Stratified Sampling:**\n",
        "\n",
        "*   **Definition:** Stratified sampling involves dividing the population into homogeneous subgroups or \"strata\" based on relevant characteristics (e.g., age, gender, income level, geographic location). Then, a random sample is drawn from each stratum.\n",
        "*   **Process:**\n",
        "    1.  Define the population.\n",
        "    2.  Divide the population into mutually exclusive strata based on relevant characteristics.\n",
        "    3.  Determine the sample size for each stratum. This can be proportional (sample size from each stratum is proportional to its size in the population) or disproportional (sample size is based on factors like variability within the stratum).\n",
        "    4.  Use random sampling within each stratum to select the desired number of individuals.\n",
        "*   **Advantages:**\n",
        "    *   Ensures representation of all key subgroups within the population.\n",
        "    *   Can lead to more precise estimates, especially when there is significant variation within the population.\n",
        "    *   Allows for analysis of differences between subgroups.\n",
        "*   **Disadvantages:**\n",
        "    *   More complex to implement than simple random sampling.\n",
        "    *   Requires prior knowledge of the population characteristics to define strata.\n",
        "    *   Requires a sampling frame for each stratum.\n",
        "*   **Example:** Using the same school example, if you want to ensure representation from each grade level (9th, 10th, 11th, and 12th grade), you would divide the students into four strata based on their grade. Then, you would randomly select a certain number of students from each grade level to form your sample of 100.\n",
        "\n",
        "**In summary:**\n",
        "\n",
        "*   **Random sampling** is a basic method where every individual has an equal chance of being selected, suitable for relatively homogeneous populations.\n",
        "*   **Stratified sampling** is a more complex method that divides the population into subgroups and samples from each subgroup, ensuring representation of diverse characteristics within the sample, which is particularly useful for heterogeneous populations."
      ]
    },
    {
      "cell_type": "markdown",
      "metadata": {
        "id": "e45ce179"
      },
      "source": [
        "# Define mean, median, and mode. Explain why these measures of central tendency are important.\n",
        "\n",
        "**Measures of Central Tendency** are single values that attempt to describe a set of data by identifying the central position within that set of data. They are often referred to as averages. The most common measures of central tendency are the mean, median, and mode.\n",
        "\n",
        "**1. Mean:**\n",
        "\n",
        "*   **Definition:** The mean (also known as the arithmetic average) is calculated by summing all the values in a dataset and dividing by the total number of values.\n",
        "*   **Calculation:** $\\text{Mean} = \\frac{\\text{Sum of all values}}{\\text{Number of values}}$\n",
        "*   **Characteristics:**\n",
        "    *   Affected by extreme values (outliers).\n",
        "    *   Used for interval or ratio data.\n",
        "*   **Example:** For the dataset {2, 4, 6, 8, 10}, the mean is (2+4+6+8+10)/5 = 30/5 = 6.\n",
        "\n",
        "**2. Median:**\n",
        "\n",
        "*   **Definition:** The median is the middle value in a dataset that has been ordered from least to greatest. If there is an even number of values, the median is the average of the two middle values.\n",
        "*   **Calculation:**\n",
        "    *   Order the data.\n",
        "    *   If n (number of values) is odd, the median is the $((n+1)/2)$-th value.\n",
        "    *   If n is even, the median is the average of the $(n/2)$-th and $((n/2)+1)$-th values.\n",
        "*   **Characteristics:**\n",
        "    *   Less affected by extreme values than the mean.\n",
        "    *   Can be used for ordinal, interval, or ratio data.\n",
        "*   **Example:** For the dataset {2, 4, 6, 8, 10}, the ordered data is {2, 4, 6, 8, 10}. The median is the middle value, which is 6. For the dataset {2, 4, 6, 8}, the ordered data is {2, 4, 6, 8}. The median is the average of the two middle values (4 and 6), which is (4+6)/2 = 5.\n",
        "\n",
        "**3. Mode:**\n",
        "\n",
        "*   **Definition:** The mode is the value that appears most frequently in a dataset. A dataset can have one mode (unimodal), more than one mode (multimodal), or no mode.\n",
        "*   **Calculation:** Count the frequency of each value and identify the value(s) with the highest frequency.\n",
        "*   **Characteristics:**\n",
        "    *   Not affected by extreme values.\n",
        "    *   Can be used for all types of data (nominal, ordinal, interval, ratio).\n",
        "*   **Example:** For the dataset {2, 4, 6, 6, 8, 10}, the mode is 6 because it appears most frequently. For the dataset {2, 4, 6, 8, 10}, there is no mode because all values appear only once.\n",
        "\n",
        "**Importance of Measures of Central Tendency:**\n",
        "\n",
        "These measures are important for several reasons:\n",
        "\n",
        "*   **Summarizing Data:** They provide a single, representative value that summarizes the typical or central value of a dataset, making it easier to understand and interpret the data.\n",
        "*   **Comparing Datasets:** They allow for easy comparison of different datasets. For example, comparing the average test scores of two different classes can give an idea of which class performed better overall.\n",
        "*   **Understanding Data Distribution:** The relationship between the mean, median, and mode can provide insights into the shape of the data distribution. For example, in a perfectly symmetrical distribution, the mean, median, and mode are all equal. In a skewed distribution, they will be different.\n",
        "*   **Identifying Typical Values:** They help in identifying what a \"typical\" value looks like in a dataset.\n",
        "*   **Basis for Further Analysis:** They are often a starting point for more advanced statistical analysis."
      ]
    },
    {
      "cell_type": "markdown",
      "metadata": {
        "id": "45984e78"
      },
      "source": [
        "# Explain skewness and kurtosis. What does a positive skew imply about the data?\n",
        "\n",
        "Beyond measures of central tendency, **skewness** and **kurtosis** are statistical measures that describe the shape and characteristics of a data distribution.\n",
        "\n",
        "**Skewness:**\n",
        "\n",
        "*   **Definition:** Skewness is a measure of the asymmetry of the probability distribution of a real-valued random variable about its mean. In simpler terms, it tells us the degree to which the distribution is tilted to one side.\n",
        "*   **Types of Skewness:**\n",
        "    *   **Positive Skew (Right-Skewed):** The tail of the distribution is longer on the right side. The mean is typically greater than the median, and the median is typically greater than the mode. This indicates that there are more extreme values on the higher end of the distribution.\n",
        "    *   **Negative Skew (Left-Skewed):** The tail of the distribution is longer on the left side. The mean is typically less than the median, and the median is typically less than the mode. This indicates that there are more extreme values on the lower end of the distribution.\n",
        "    *   **Zero Skew (Symmetrical):** The distribution is symmetrical, meaning it's not skewed to either side. The mean, median, and mode are typically equal or very close to each other (e.g., a normal distribution).\n",
        "*   **What a Positive Skew Implies:** A positive skew implies that there are a few relatively high values in the dataset that are pulling the mean to the right, away from the bulk of the data. This suggests that the data is concentrated on the lower end, with a tail extending towards higher values.\n",
        "\n",
        "**Kurtosis:**\n",
        "\n",
        "*   **Definition:** Kurtosis is a measure of the \"tailedness\" and \"peakedness\" of the probability distribution of a real-valued random variable. It tells us how heavy or light the tails of the distribution are compared to a normal distribution, and how peaked or flat the distribution is around its center.\n",
        "*   **Types of Kurtosis:**\n",
        "    *   **Mesokurtic:** The distribution has kurtosis similar to that of a normal distribution (kurtosis = 3, or excess kurtosis = 0).\n",
        "    *   **Leptokurtic:** The distribution has heavier tails and a sharper peak than a normal distribution (kurtosis > 3, or excess kurtosis > 0). This indicates that there is a higher probability of extreme values.\n",
        "    *   **Platykurtic:** The distribution has lighter tails and a flatter peak than a normal distribution (kurtosis < 3, or excess kurtosis < 0). This indicates that there is a lower probability of extreme values.\n",
        "\n",
        "**In summary:**\n",
        "\n",
        "*   **Skewness** measures the asymmetry of a distribution.\n",
        "*   **Kurtosis** measures the \"tailedness\" and \"peakedness\" of a distribution.\n",
        "*   A **positive skew** indicates that the distribution has a longer tail on the right side, suggesting the presence of relatively high values that pull the mean upwards."
      ]
    },
    {
      "cell_type": "markdown",
      "source": [
        "5. Implement a Python program to compute the mean, median, and mode of\n",
        "a given list of numbers.\n",
        "numbers = [12, 15, 12, 18, 19, 12, 20, 22, 19, 19, 24, 24, 24, 26, 28]\n",
        "(Include your Python code and output in the code box below.)"
      ],
      "metadata": {
        "id": "QLDalXIeenfv"
      }
    },
    {
      "cell_type": "code",
      "metadata": {
        "colab": {
          "base_uri": "https://localhost:8080/"
        },
        "id": "1662e4e5",
        "outputId": "c1d9995b-2536-4396-e321-bf4a5b5c0aa5"
      },
      "source": [
        "import numpy as np\n",
        "\n",
        "list_x = [10, 20, 30, 40, 50]\n",
        "list_y = [15, 25, 35, 45, 60]\n",
        "\n",
        "# Convert lists to numpy arrays\n",
        "array_x = np.array(list_x)\n",
        "array_y = np.array(list_y)\n",
        "\n",
        "# Compute covariance\n",
        "covariance = np.cov(array_x, array_y)[0, 1]\n",
        "print(f\"Covariance: {covariance}\")\n",
        "\n",
        "# Compute correlation coefficient\n",
        "correlation_coefficient = np.corrcoef(array_x, array_y)[0, 1]\n",
        "print(f\"Correlation Coefficient: {correlation_coefficient}\")"
      ],
      "execution_count": 2,
      "outputs": [
        {
          "output_type": "stream",
          "name": "stdout",
          "text": [
            "Covariance: 275.0\n",
            "Correlation Coefficient: 0.995893206467704\n"
          ]
        }
      ]
    },
    {
      "cell_type": "markdown",
      "source": [
        "6.  Compute the covariance and correlation coefficient between the following\n",
        "two datasets provided as lists in Python:\n",
        "list_x = [10, 20, 30, 40, 50]\n",
        "list_y = [15, 25, 35, 45, 60]\n",
        "(Include your Python code and output in the code box below.)"
      ],
      "metadata": {
        "id": "i6VcQPuAe0yM"
      }
    },
    {
      "cell_type": "markdown",
      "source": [],
      "metadata": {
        "id": "fLp8um44e0uo"
      }
    },
    {
      "cell_type": "code",
      "metadata": {
        "colab": {
          "base_uri": "https://localhost:8080/"
        },
        "id": "04b9cdd3",
        "outputId": "1bc65d69-bdf4-4e3a-974c-d81e8099faae"
      },
      "source": [
        "import statistics\n",
        "\n",
        "numbers = [12, 15, 12, 18, 19, 12, 20, 22, 19, 19, 24, 24, 24, 26, 28]\n",
        "\n",
        "# Calculate the mean\n",
        "mean_value = statistics.mean(numbers)\n",
        "print(f\"Mean: {mean_value}\")\n",
        "\n",
        "# Calculate the median\n",
        "median_value = statistics.median(numbers)\n",
        "print(f\"Median: {median_value}\")\n",
        "\n",
        "# Calculate the mode\n",
        "try:\n",
        "    mode_value = statistics.mode(numbers)\n",
        "    print(f\"Mode: {mode_value}\")\n",
        "except statistics.StatisticsError as e:\n",
        "    print(f\"Could not calculate mode: {e}\")"
      ],
      "execution_count": 1,
      "outputs": [
        {
          "output_type": "stream",
          "name": "stdout",
          "text": [
            "Mean: 19.6\n",
            "Median: 19\n",
            "Mode: 12\n"
          ]
        }
      ]
    },
    {
      "cell_type": "markdown",
      "metadata": {
        "id": "691fb6f6"
      },
      "source": [
        "# Task\n",
        "Write a Python script to draw a boxplot for the following numeric list and identify its outliers. Explain the result:\n",
        "data = [12, 14, 14, 15, 18, 19, 19, 21, 22, 22, 23, 23, 24, 26, 29, 35]\n",
        "(Include your Python code and output in the code box below.)"
      ]
    },
    {
      "cell_type": "markdown",
      "metadata": {
        "id": "dac112f3"
      },
      "source": [
        "## Generate boxplot\n",
        "\n",
        "### Subtask:\n",
        "Generate a Python code cell to create a boxplot for the given data using a suitable library like `matplotlib` or `seaborn`.\n"
      ]
    },
    {
      "cell_type": "markdown",
      "metadata": {
        "id": "10bbb201"
      },
      "source": [
        "**Reasoning**:\n",
        "Generate a Python code cell to create a boxplot for the given data using matplotlib.\n",
        "\n"
      ]
    },
    {
      "cell_type": "code",
      "metadata": {
        "colab": {
          "base_uri": "https://localhost:8080/",
          "height": 452
        },
        "id": "e20af167",
        "outputId": "d0df8c66-03c2-44c9-8bef-79663549884a"
      },
      "source": [
        "import matplotlib.pyplot as plt\n",
        "\n",
        "data = [12, 14, 14, 15, 18, 19, 19, 21, 22, 22, 23, 23, 24, 26, 29, 35]\n",
        "\n",
        "plt.boxplot(data)\n",
        "plt.title(\"Boxplot of Data\")\n",
        "plt.ylabel(\"Values\")\n",
        "plt.show()"
      ],
      "execution_count": 3,
      "outputs": [
        {
          "output_type": "display_data",
          "data": {
            "text/plain": [
              "<Figure size 640x480 with 1 Axes>"
            ],
            "image/png": "[encoded data removed]"
          },
          "metadata": {}
        }
      ]
    },
    {
      "cell_type": "markdown",
      "metadata": {
        "id": "b643a28f"
      },
      "source": [
        "## Identify outliers\n",
        "\n",
        "### Subtask:\n",
        "Calculate the interquartile range (IQR) and use it to identify potential outliers in the data.\n"
      ]
    },
    {
      "cell_type": "markdown",
      "metadata": {
        "id": "8c6c94f9"
      },
      "source": [
        "**Reasoning**:\n",
        "Calculate Q1, Q3, IQR, and the outlier bounds, then identify the outliers.\n",
        "\n"
      ]
    },
    {
      "cell_type": "markdown",
      "metadata": {
        "id": "91b3a5fb"
      },
      "source": [
        "# Exploring the Relationship Between Advertising Spend and Daily Sales using Covariance and Correlation\n",
        "\n",
        "As a data analyst, to explore the relationship between advertising spend and daily sales, you can use two key statistical measures: covariance and correlation.\n",
        "\n",
        "**Covariance:**\n",
        "\n",
        "*   **What it measures:** Covariance measures the extent to which two variables change together. A positive covariance indicates that as one variable increases, the other tends to increase as well. A negative covariance indicates that as one variable increases, the other tends to decrease. A covariance close to zero suggests a weak linear relationship.\n",
        "*   **How to use it:** In the context of advertising spend and daily sales, a positive covariance would suggest that higher advertising spend is associated with higher daily sales. The magnitude of the covariance doesn't have a straightforward interpretation on its own, as it depends on the units of the variables.\n",
        "\n",
        "**Correlation:**\n",
        "\n",
        "*   **What it measures:** Correlation is a standardized measure of the linear relationship between two variables. It ranges from -1 to +1.\n",
        "    *   A correlation of +1 indicates a perfect positive linear relationship (as one variable increases, the other increases proportionally).\n",
        "    *   A correlation of -1 indicates a perfect negative linear relationship (as one variable increases, the other decreases proportionally).\n",
        "    *   A correlation of 0 indicates no linear relationship.\n",
        "*   **How to use it:** Correlation is often more useful than covariance because it is unitless and its value provides a clear indication of the strength and direction of the linear relationship. A high positive correlation between advertising spend and daily sales would strongly suggest that increasing advertising spend is associated with a significant increase in daily sales.\n",
        "\n",
        "**In summary:**\n",
        "\n",
        "*   Start by calculating the **covariance** to see if there's a general tendency for advertising spend and daily sales to move together.\n",
        "*   Then, calculate the **correlation coefficient** to get a standardized measure of the strength and direction of the linear relationship. A strong positive correlation would be a good indicator that increased advertising spend is leading to increased daily sales. However, remember that correlation does not imply causation; other factors could be influencing sales."
      ]
    },
    {
      "cell_type": "code",
      "metadata": {
        "colab": {
          "base_uri": "https://localhost:8080/"
        },
        "id": "3e34f226",
        "outputId": "36e09d06-21c4-4bd0-cc51-358d91d1b7cd"
      },
      "source": [
        "import numpy as np\n",
        "\n",
        "advertising_spend = [200, 250, 300, 400, 500]\n",
        "daily_sales = [2200, 2450, 2750, 3200, 4000]\n",
        "\n",
        "# Compute the correlation coefficient\n",
        "correlation_coefficient = np.corrcoef(advertising_spend, daily_sales)[0, 1]\n",
        "\n",
        "print(f\"Correlation Coefficient: {correlation_coefficient}\")"
      ],
      "execution_count": 9,
      "outputs": [
        {
          "output_type": "stream",
          "name": "stdout",
          "text": [
            "Correlation Coefficient: 0.9935824101653329\n"
          ]
        }
      ]
    },
    {
      "cell_type": "markdown",
      "metadata": {
        "id": "f1ae9402"
      },
      "source": [
        "## Explain results\n",
        "\n",
        "### Subtask:\n",
        "Generate a markdown cell to explain the boxplot and the identified outliers.\n"
      ]
    },
    {
      "cell_type": "markdown",
      "metadata": {
        "id": "251d2f88"
      },
      "source": [
        "**Reasoning**:\n",
        "Generate a markdown cell to explain the boxplot and the identified outliers based on the calculations from previous steps.\n",
        "\n"
      ]
    },
    {
      "cell_type": "markdown",
      "metadata": {
        "id": "e592ee2a"
      },
      "source": [
        "**Reasoning**:\n",
        "The previous attempt to create a markdown cell failed due to a `SyntaxError`. The markdown content was placed inside a `code_block` command, which is incorrect for generating markdown. I need to use the `code_block` command to generate the markdown content as a string, then display it using `display`.\n",
        "\n"
      ]
    },
    {
      "cell_type": "markdown",
      "metadata": {
        "id": "0a5aff0d"
      },
      "source": [
        "## Summary:\n",
        "\n",
        "### Data Analysis Key Findings\n",
        "\n",
        "*   The first quartile (Q1) of the data is 17.25.\n",
        "*   The third quartile (Q3) of the data is 23.25.\n",
        "*   The Interquartile Range (IQR) is 6.0.\n",
        "*   The calculated lower bound for outlier detection is 8.25, and the upper bound is 32.25.\n",
        "*   The value 35 was identified as an outlier in the dataset because it falls above the calculated upper bound.\n",
        "\n",
        "### Insights or Next Steps\n",
        "\n",
        "*   The boxplot visually confirms the presence of an outlier, which aligns with the quantitative calculation using the 1.5 \\* IQR rule.\n",
        "*   Depending on the context of the data, the identified outlier (35) should be further investigated to understand if it represents a data entry error, a rare but valid data point, or an anomaly requiring specific handling.\n"
      ]
    },
    {
      "cell_type": "markdown",
      "source": [
        "9. You are working as a data analyst in an e-commerce company. The\n",
        "marketing team wants to know if there is a relationship between advertising spend and\n",
        "daily sales.\n",
        "● Explain how you would use covariance and correlation to explore this\n",
        "relationship.\n",
        "● Write Python code to compute the correlation between the two lists:\n",
        "advertising_spend = [200, 250, 300, 400, 500]\n",
        "daily_sales = [2200, 2450, 2750, 3200, 4000]\n",
        "(Include your Python code and output in the code box below.)"
      ],
      "metadata": {
        "id": "NhIxKUxufo2V"
      }
    },
    {
      "cell_type": "code",
      "metadata": {
        "colab": {
          "base_uri": "https://localhost:8080/"
        },
        "id": "5d178c65",
        "outputId": "5e634877-2ca8-40fa-89b0-a11a934d3b49"
      },
      "source": [
        "import numpy as np\n",
        "\n",
        "data = [12, 14, 14, 15, 18, 19, 19, 21, 22, 22, 23, 23, 24, 26, 29, 35]\n",
        "\n",
        "# Calculate Q1 and Q3\n",
        "q1 = np.percentile(data, 25)\n",
        "q3 = np.percentile(data, 75)\n",
        "\n",
        "# Calculate IQR\n",
        "iqr = q3 - q1\n",
        "\n",
        "# Define outlier bounds\n",
        "lower_bound = q1 - 1.5 * iqr\n",
        "upper_bound = q3 + 1.5 * iqr\n",
        "\n",
        "# Identify potential outliers\n",
        "outliers = [x for x in data if x < lower_bound or x > upper_bound]\n",
        "\n",
        "# Print the results\n",
        "print(f\"Q1: {q1}\")\n",
        "print(f\"Q3: {q3}\")\n",
        "print(f\"IQR: {iqr}\")\n",
        "print(f\"Lower Bound for Outliers: {lower_bound}\")\n",
        "print(f\"Upper Bound for Outliers: {upper_bound}\")\n",
        "print(f\"Potential Outliers: {outliers}\")"
      ],
      "execution_count": 8,
      "outputs": [
        {
          "output_type": "stream",
          "name": "stdout",
          "text": [
            "Q1: 17.25\n",
            "Q3: 23.25\n",
            "IQR: 6.0\n",
            "Lower Bound for Outliers: 8.25\n",
            "Upper Bound for Outliers: 32.25\n",
            "Potential Outliers: [35]\n"
          ]
        }
      ]
    }
  ]
}