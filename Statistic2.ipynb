{
  "nbformat": 4,
  "nbformat_minor": 0,
  "metadata": {
    "colab": {
      "provenance": []
    },
    "kernelspec": {
      "name": "python3",
      "display_name": "Python 3"
    },
    "language_info": {
      "name": "python"
    }
  },
  "cells": [
    {
      "cell_type": "markdown",
      "source": [
        "1. What is a random variable in probability theory?\n",
        "\n",
        "Ans. A random variable in probability theory is a variable that assigns a numerical value to the outcomes of a random experiment.\n",
        "\n",
        "Formally, it is a function that maps outcomes from the sample space (set of all possible outcomes) to real numbers.\n",
        "\n",
        "It helps quantify uncertain events so we can analyze them mathematically.\n",
        "\n",
        "Types:\n",
        "\n",
        "Discrete random variable – takes countable values.\n",
        "\n",
        "Example: Rolling a die →\n",
        "𝑋\n",
        "∈\n",
        "{\n",
        "1\n",
        ",\n",
        "2\n",
        ",\n",
        "3\n",
        ",\n",
        "4\n",
        ",\n",
        "5\n",
        ",\n",
        "6\n",
        "}\n",
        "X∈{1,2,3,4,5,6}\n",
        "\n",
        "Continuous random variable – takes values from an interval of real numbers.\n",
        "\n",
        "Example: Height of a student →\n",
        "𝑋\n",
        "∈\n",
        "[\n",
        "0\n",
        ",\n",
        "∞\n",
        ")\n",
        "X∈[0,∞)"
      ],
      "metadata": {
        "id": "vbkwjiBqX6HK"
      }
    },
    {
      "cell_type": "markdown",
      "source": [
        "2.  What are the types of random variables?\n",
        "\n",
        "Ans. 1. Discrete Random Variable\n",
        "\n",
        "Takes countable values (finite or infinite).\n",
        "\n",
        "Usually comes from experiments where outcomes can be listed.\n",
        "\n",
        "Examples:\n",
        "\n",
        "Number of heads when tossing 3 coins →\n",
        "𝑋\n",
        "∈\n",
        "{\n",
        "0\n",
        ",\n",
        "1\n",
        ",\n",
        "2\n",
        ",\n",
        "3\n",
        "}\n",
        "X∈{0,1,2,3}\n",
        "\n",
        "Rolling a die →\n",
        "𝑋\n",
        "∈\n",
        "{\n",
        "1\n",
        ",\n",
        "2\n",
        ",\n",
        "3\n",
        ",\n",
        "4\n",
        ",\n",
        "5\n",
        ",\n",
        "6\n",
        "}\n",
        "X∈{1,2,3,4,5,6}\n",
        "\n",
        "Probability distribution: Probability Mass Function (PMF)\n",
        "\n",
        "2. Continuous Random Variable\n",
        "\n",
        "Takes uncountably infinite values (within an interval).\n",
        "\n",
        "Used when outcomes are measured, not counted.\n",
        "\n",
        "Examples:\n",
        "\n",
        "Height of a student (\n",
        "𝑋\n",
        "∈\n",
        "[\n",
        "100\n",
        ",\n",
        "200\n",
        "]\n",
        "X∈[100,200] cm)\n",
        "\n",
        "Time taken to finish a race (\n",
        "𝑋\n",
        "≥\n",
        "0\n",
        "X≥0)\n",
        "\n",
        "Probability distribution: Probability Density Function (PDF)\n",
        "\n",
        "Extra Classification (sometimes included):\n",
        "\n",
        "Mixed Random Variable – Has both discrete and continuous parts.\n",
        "\n",
        "Example: Insurance claims (probability of no claim = discrete, amount of claim if made = continuous).\n"
      ],
      "metadata": {
        "id": "j_b19whdYSHc"
      }
    },
    {
      "cell_type": "markdown",
      "metadata": {
        "id": "ef418aeb"
      },
      "source": [
        "3. Explain the difference between discrete and continuous distributions.\n",
        "\n",
        "Ans. The key difference between discrete and continuous distributions lies in the type of values the random variable can take.\n",
        "\n",
        "**Discrete Probability Distributions:**\n",
        "\n",
        "*   **Random Variable:** Takes on a countable number of distinct values. These values are often integers, representing counts or categories.\n",
        "*   **Values:** Can be listed, even if there are infinitely many (e.g., the number of coin flips until the first head).\n",
        "*   **Probability:** Probability is assigned to each specific value the random variable can take. The sum of all probabilities for all possible values must equal 1.\n",
        "*   **Visualization:** Represented by a Probability Mass Function (PMF), which is typically shown as a bar graph where the height of each bar represents the probability of that specific value.\n",
        "*   **Examples:**\n",
        "    *   Number of heads in a fixed number of coin flips.\n",
        "    *   Number of cars passing a point in an hour.\n",
        "    *   Result of rolling a die.\n",
        "\n",
        "**Continuous Probability Distributions:**\n",
        "\n",
        "*   **Random Variable:** Takes on any value within a given range or interval. These values are typically measurements.\n",
        "*   **Values:** Cannot be listed because there are infinitely many possible values between any two points in the interval.\n",
        "*   **Probability:** Probability is not assigned to individual values, but rather to intervals of values. The probability of the random variable taking on any single, specific value is theoretically zero. The area under the probability density function (PDF) over a given interval represents the probability of the random variable falling within that interval. The total area under the PDF must equal 1.\n",
        "*   **Visualization:** Represented by a Probability Density Function (PDF), which is a smooth curve. The area under the curve between two points represents the probability.\n",
        "*   **Examples:**\n",
        "    *   Height of a person.\n",
        "    *   Time taken to complete a task.\n",
        "    *   Temperature of a room.\n",
        "\n",
        "**Analogy:**\n",
        "\n",
        "Think of discrete variables like counting whole objects (e.g., number of apples) and continuous variables like measuring something that can take on any value within a range (e.g., the weight of an apple).\n",
        "\n",
        "In summary, discrete distributions deal with countable outcomes and assign probabilities to individual points, while continuous distributions deal with uncountable outcomes within a range and assign probabilities to intervals."
      ]
    },
    {
      "cell_type": "markdown",
      "metadata": {
        "id": "3d4844ce"
      },
      "source": [
        "4. What is a binomial distribution, and how is it used in probability?\n",
        "\n",
        "Ans. A binomial distribution is a discrete probability distribution that models the number of successes in a fixed number of independent Bernoulli trials.\n",
        "\n",
        "**Key Characteristics:**\n",
        "\n",
        "*   **Fixed number of trials (n):** The experiment is repeated a set number of times.\n",
        "*   **Independent trials:** The outcome of one trial does not affect the outcome of others.\n",
        "*   **Two possible outcomes:** Each trial has only two possible outcomes, typically labeled \"success\" and \"failure\".\n",
        "*   **Constant probability of success (p):** The probability of success is the same for each trial.\n",
        "\n",
        "**Usage in Probability:**\n",
        "\n",
        "The binomial distribution is used to calculate the probability of obtaining exactly *k* successes in *n* trials. The probability mass function (PMF) for a binomial distribution is given by:\n",
        "\n",
        "$P(X=k) = \\binom{n}{k} * p^k * (1-p)^{n-k}$\n",
        "\n",
        "Where:\n",
        "\n",
        "*   $P(X=k)$ is the probability of getting exactly *k* successes.\n",
        "*   $\\binom{n}{k}$ is the binomial coefficient, calculated as $\\frac{n!}{k!(n-k)!}$, which represents the number of ways to choose *k* successes from *n* trials.\n",
        "*   $p^k$ is the probability of getting *k* successes.\n",
        "*   $(1-p)^{n-k}$ is the probability of getting *n-k* failures.\n",
        "\n",
        "**Examples of Use Cases:**\n",
        "\n",
        "*   **Quality Control:** Calculating the probability of finding a certain number of defective items in a batch.\n",
        "*   **Medical Research:** Determining the probability of a certain number of patients responding positively to a treatment.\n",
        "*   **Polling:** Estimating the probability of a certain number of people in a sample having a particular opinion.\n",
        "*   **Genetics:** Predicting the probability of offspring inheriting a specific trait."
      ]
    },
    {
      "cell_type": "markdown",
      "metadata": {
        "id": "175042ed"
      },
      "source": [
        "5. What is the standard normal distribution, and why is it important?\n",
        "\n",
        "Ans. The standard normal distribution is a special case of the normal distribution. It is a continuous probability distribution with a mean (μ) of 0 and a standard deviation (σ) of 1.\n",
        "\n",
        "**Key Characteristics:**\n",
        "\n",
        "*   **Bell-shaped curve:** Like all normal distributions, its probability density function is symmetric and bell-shaped.\n",
        "*   **Mean of 0:** The center of the distribution is at 0.\n",
        "*   **Standard deviation of 1:** The spread of the distribution is standardized to 1.\n",
        "\n",
        "**Importance of the Standard Normal Distribution:**\n",
        "\n",
        "The standard normal distribution is important because it allows us to standardize any normal distribution. By transforming a value from any normal distribution into a z-score, we can determine its position relative to the mean in terms of standard deviations.\n",
        "\n",
        "The formula for calculating a z-score is:\n",
        "\n",
        "$z = \\frac{x - \\mu}{\\sigma}$\n",
        "\n",
        "Where:\n",
        "\n",
        "*   $z$ is the z-score.\n",
        "*   $x$ is the value from the normal distribution.\n",
        "*   $\\mu$ is the mean of the normal distribution.\n",
        "*   $\\sigma$ is the standard deviation of the normal distribution.\n",
        "\n",
        "This standardization is crucial for several reasons:\n",
        "\n",
        "*   **Comparing values from different normal distributions:** By converting values to z-scores, we can compare them even if they come from normal distributions with different means and standard deviations.\n",
        "*   **Calculating probabilities:** We can use standard normal distribution tables (or statistical software) to find the probability of a value falling within a certain range.\n",
        "*   **Statistical inference:** It is a fundamental distribution used in many statistical tests and confidence interval calculations.\n",
        "\n",
        "In essence, the standard normal distribution acts as a universal reference point for all normal distributions, simplifying calculations and comparisons in statistics."
      ]
    },
    {
      "cell_type": "markdown",
      "metadata": {
        "id": "3a781952"
      },
      "source": [
        "6. What is the Central Limit Theorem (CLT), and why is it critical in statistics?\n",
        "\n",
        "Ans. The Central Limit Theorem (CLT) is a fundamental theorem in probability and statistics. It states that, for a sufficiently large sample size from any population with a finite mean and variance, the distribution of sample means will approximate a normal distribution, regardless of the shape of the original population distribution.\n",
        "\n",
        "**Key Concepts:**\n",
        "\n",
        "*   **Population Distribution:** This is the distribution of the entire set of data you are interested in. It can be any shape (uniform, exponential, skewed, etc.).\n",
        "*   **Sample:** A subset of the population.\n",
        "*   **Sample Mean:** The average of the values in a sample.\n",
        "*   **Distribution of Sample Means:** If you take many random samples of the same size from a population and calculate the mean of each sample, the distribution of these sample means will form a new distribution.\n",
        "\n",
        "**What the CLT States:**\n",
        "\n",
        "As the sample size ($n$) increases:\n",
        "\n",
        "1.  The distribution of sample means will become increasingly normal, even if the original population distribution is not normal.\n",
        "2.  The mean of the distribution of sample means will be equal to the mean of the original population ($\\mu$).\n",
        "3.  The standard deviation of the distribution of sample means (called the standard error) will be equal to the population standard deviation ($\\sigma$) divided by the square root of the sample size ($\\sqrt{n}$).\n",
        "\n",
        "    Standard Error ($\\sigma_{\\bar{x}}$) = $\\frac{\\sigma}{\\sqrt{n}}$\n",
        "\n",
        "**Why the CLT is Critical in Statistics:**\n",
        "\n",
        "The CLT is critical for several reasons:\n",
        "\n",
        "*   **Statistical Inference:** It allows us to make inferences about a population based on a sample, even if we don't know the population's distribution. This is because, due to the CLT, the distribution of sample means is approximately normal, which is well-understood.\n",
        "*   **Hypothesis Testing and Confidence Intervals:** Many statistical tests (like t-tests and z-tests) and methods for constructing confidence intervals rely on the assumption of a normal distribution. The CLT justifies using these methods when dealing with sample means, especially with larger sample sizes.\n",
        "*   **Sampling Distribution:** It provides a predictable framework for the sampling distribution of the mean, making it possible to calculate probabilities related to sample means.\n",
        "*   **Practical Applications:** It underpins many real-world applications of statistics, such as quality control, polling, and scientific research, where it's often impractical or impossible to study the entire population.\n",
        "\n",
        "In summary, the CLT is a powerful theorem that provides a bridge between sample statistics and population parameters, enabling us to use well-established methods for normal distributions to analyze and interpret data from various populations."
      ]
    },
    {
      "cell_type": "markdown",
      "metadata": {
        "id": "70a40573"
      },
      "source": [
        "7. What is the significance of confidence intervals in statistical analysis?\n",
        "\n",
        "Ans. Confidence intervals are a fundamental tool in statistical analysis. They provide a range of plausible values for an unknown population parameter (like a mean or proportion) based on data from a sample.\n",
        "\n",
        "**Significance of Confidence Intervals:**\n",
        "\n",
        "*   **Quantifying Uncertainty:** Unlike a single point estimate (e.g., a sample mean), which gives a single value for the population parameter, a confidence interval acknowledges and quantifies the uncertainty associated with that estimate. It tells us how much the sample statistic is likely to vary from the true population parameter.\n",
        "*   **Providing a Range of Plausible Values:** A confidence interval gives a range of values within which the true population parameter is likely to lie, with a certain level of confidence. For example, a 95% confidence interval means that if we were to take many samples and calculate a confidence interval for each, about 95% of those intervals would contain the true population parameter.\n",
        "*   **Aiding in Decision Making:** Confidence intervals help in making informed decisions. If a confidence interval for a difference between two groups includes zero, it suggests that there might not be a statistically significant difference between the groups. If the interval does not include zero, it indicates a statistically significant difference.\n",
        "*   **Interpreting Study Results:** Confidence intervals are commonly used in research to present the precision of the estimated effect of an intervention or the prevalence of a characteristic. A narrower confidence interval indicates a more precise estimate.\n",
        "*   **Complementing Hypothesis Testing:** While hypothesis testing focuses on whether there is enough evidence to reject a null hypothesis, confidence intervals provide more information about the magnitude and direction of the effect. They can be used to assess the practical significance of a result, not just its statistical significance.\n",
        "*   **Understanding the Limitations of Sampling:** Confidence intervals highlight that a sample is just a snapshot of the population and that there is inherent variability in sample statistics.\n",
        "\n",
        "**Common Misconceptions:**\n",
        "\n",
        "It's important to note that a confidence interval does NOT mean there is a 95% probability that the true population parameter falls within the calculated interval from a single sample. The probability is associated with the method of constructing the interval over many repeated samples.\n",
        "\n",
        "In summary, confidence intervals are significant because they provide a more informative picture than point estimates alone, quantifying uncertainty and providing a range of plausible values for population parameters, which is crucial for making sound statistical inferences and decisions."
      ]
    },
    {
      "cell_type": "markdown",
      "metadata": {
        "id": "fb0a9f48"
      },
      "source": [
        "8. What is the concept of expected value in a probability distribution?\n",
        "\n",
        "Ans. The expected value (or expectation) of a random variable is the average value we would expect to get if we repeated the random experiment many times. It's a measure of the central tendency of a probability distribution.\n",
        "\n",
        "**For a Discrete Probability Distribution:**\n",
        "\n",
        "The expected value, denoted as $E(X)$ or $\\mu$, is calculated by summing the product of each possible value of the random variable and its corresponding probability.\n",
        "\n",
        "$E(X) = \\sum_{i} x_i * P(X=x_i)$\n",
        "\n",
        "Where:\n",
        "\n",
        "*   $x_i$ is the i-th possible value of the random variable.\n",
        "*   $P(X=x_i)$ is the probability of the random variable taking on the value $x_i$.\n",
        "\n",
        "**Example (Discrete):**\n",
        "\n",
        "Consider rolling a fair six-sided die. The possible outcomes are {1, 2, 3, 4, 5, 6}, each with a probability of 1/6.\n",
        "\n",
        "$E(X) = (1 * 1/6) + (2 * 1/6) + (3 * 1/6) + (4 * 1/6) + (5 * 1/6) + (6 * 1/6)$\n",
        "$E(X) = (1+2+3+4+5+6)/6 = 21/6 = 3.5$\n",
        "\n",
        "This means that if you roll a die many times, the average outcome you would expect is 3.5.\n",
        "\n",
        "**For a Continuous Probability Distribution:**\n",
        "\n",
        "For a continuous random variable with a probability density function (PDF) $f(x)$, the expected value is calculated using an integral:\n",
        "\n",
        "$E(X) = \\int_{-\\infty}^{\\infty} x * f(x) dx$\n",
        "\n",
        "**Significance of Expected Value:**\n",
        "\n",
        "*   **Measure of Center:** It represents the long-run average of the random variable.\n",
        "*   **Decision Making:** In many scenarios, the expected value is used to make decisions, especially in finance, gambling, and risk assessment. For example, the expected value of a game can tell you if it's profitable in the long run.\n",
        "*   **Population Mean:** For a population, the expected value of a random variable is its mean.\n",
        "\n",
        "In summary, the expected value is a crucial concept that provides a single, representative value for a probability distribution, indicating what we can anticipate in the long run."
      ]
    },
    {
      "cell_type": "markdown",
      "source": [
        "9. Write a Python program to generate 1000 random numbers from a normal\n",
        "distribution with mean = 50 and standard deviation = 5. Compute its mean and standard\n",
        "deviation using NumPy, and draw a histogram to visualize the distribution.\n",
        "(Include your Python code and output in the code box below.)"
      ],
      "metadata": {
        "id": "cINhK3F_bX_X"
      }
    },
    {
      "cell_type": "markdown",
      "metadata": {
        "id": "f6b4295d"
      },
      "source": [
        "Here's how you can apply the Central Limit Theorem to estimate the average sales with a 95% confidence interval:\n",
        "\n",
        "**Applying the Central Limit Theorem (CLT):**\n",
        "\n",
        "Even though the daily sales data might not follow a normal distribution, the Central Limit Theorem tells us that the distribution of sample means will be approximately normal if the sample size is sufficiently large. In this case, we have 2 years of daily sales data, which is a reasonably large sample size.\n",
        "\n",
        "1.  **Sample Mean:** We will calculate the mean of our sample data (the 2 years of daily sales). This sample mean ($\\bar{x}$) is our best point estimate for the true average daily sales of the entire population (all possible daily sales).\n",
        "\n",
        "2.  **Standard Error:** The CLT also tells us that the standard deviation of the distribution of sample means (called the standard error, $\\sigma_{\\bar{x}}$) can be estimated using the sample standard deviation ($s$) divided by the square root of the sample size ($n$).\n",
        "\n",
        "    Standard Error ($\\sigma_{\\bar{x}}$) $\\approx \\frac{s}{\\sqrt{n}}$\n",
        "\n",
        "3.  **Confidence Interval:** Since the distribution of sample means is approximately normal, we can use the properties of the normal distribution to construct a confidence interval. A 95% confidence interval for the population mean ($\\mu$) is given by:\n",
        "\n",
        "    Confidence Interval = $\\bar{x} \\pm Z * \\sigma_{\\bar{x}}$\n",
        "\n",
        "    Where:\n",
        "\n",
        "    *   $\\bar{x}$ is the sample mean.\n",
        "    *   $Z$ is the z-score corresponding to the desired confidence level. For a 95% confidence interval, the z-score is approximately 1.96 (this value comes from the standard normal distribution table, representing the number of standard deviations from the mean needed to capture 95% of the area under the curve).\n",
        "    *   $\\sigma_{\\bar{x}}$ is the standard error of the mean.\n",
        "\n",
        "**Interpretation:**\n",
        "\n",
        "The 95% confidence interval means that if we were to take many samples of daily sales data and calculate a 95% confidence interval for each sample, approximately 95% of these intervals would contain the true average daily sales for the retail company.\n",
        "\n",
        "Now, let's write the Python code to compute the mean sales and its confidence interval."
      ]
    },
    {
      "cell_type": "code",
      "metadata": {
        "colab": {
          "base_uri": "https://localhost:8080/",
          "height": 616
        },
        "id": "efe7cdd1",
        "outputId": "bd68c6a8-7f47-46ef-dee6-471cdd94404b"
      },
      "source": [
        "import numpy as np\n",
        "import matplotlib.pyplot as plt\n",
        "\n",
        "# Generate 1000 random numbers from a normal distribution\n",
        "mean = 50\n",
        "std_dev = 5\n",
        "num_samples = 1000\n",
        "random_numbers = np.random.normal(mean, std_dev, num_samples)\n",
        "\n",
        "# Compute the mean and standard deviation using NumPy\n",
        "computed_mean = np.mean(random_numbers)\n",
        "computed_std_dev = np.std(random_numbers)\n",
        "\n",
        "print(f\"Generated {num_samples} random numbers from a normal distribution with mean = {mean} and standard deviation = {std_dev}\")\n",
        "print(f\"Computed Mean: {computed_mean:.2f}\")\n",
        "print(f\"Computed Standard Deviation: {computed_std_dev:.2f}\")\n",
        "\n",
        "# Draw a histogram to visualize the distribution\n",
        "plt.figure(figsize=(10, 6))\n",
        "plt.hist(random_numbers, bins=30, density=True, alpha=0.7, color='skyblue', edgecolor='black')\n",
        "plt.title('Histogram of Random Numbers from a Normal Distribution')\n",
        "plt.xlabel('Value')\n",
        "plt.ylabel('Density')\n",
        "plt.grid(axis='y', alpha=0.5)\n",
        "plt.show()"
      ],
      "execution_count": 4,
      "outputs": [
        {
          "output_type": "stream",
          "name": "stdout",
          "text": [
            "Generated 1000 random numbers from a normal distribution with mean = 50 and standard deviation = 5\n",
            "Computed Mean: 50.11\n",
            "Computed Standard Deviation: 4.79\n"
          ]
        },
        {
          "output_type": "display_data",
          "data": {
            "text/plain": [
              "<Figure size 1000x600 with 1 Axes>"
            ],
            "image/png": "[encoded data removed]"
          },
          "metadata": {}
        }
      ]
    },
    {
      "cell_type": "markdown",
      "source": [
        "10. You are working as a data analyst for a retail company. The company has\n",
        "collected daily sales data for 2 years and wants you to identify the overall sales trend.\n",
        "daily_sales = [220, 245, 210, 265, 230, 250, 260, 275, 240, 255,\n",
        " 235, 260, 245, 250, 225, 270, 265, 255, 250, 260]\n",
        "● Explain how you would apply the Central Limit Theorem to estimate the average sales\n",
        "with a 95% confidence interval.\n",
        "● Write the Python code to compute the mean sales and its confidence interval.\n",
        "(Include your Python code and output in the code box below.)"
      ],
      "metadata": {
        "id": "4VnKKToGbzA9"
      }
    },
    {
      "cell_type": "code",
      "metadata": {
        "colab": {
          "base_uri": "https://localhost:8080/"
        },
        "id": "f7fe1b59",
        "outputId": "f6b30ac8-f842-45b0-e183-06b469aa1108"
      },
      "source": [
        "import numpy as np\n",
        "from scipy import stats\n",
        "\n",
        "# Daily sales data for 2 years (example data provided in the query)\n",
        "daily_sales = [220, 245, 210, 265, 230, 250, 260, 275, 240, 255,\n",
        "               235, 260, 245, 250, 225, 270, 265, 255, 250, 260]\n",
        "\n",
        "n = len(daily_sales)\n",
        "sample_mean = np.mean(daily_sales)\n",
        "sample_std = np.std(daily_sales, ddof=1) # Use ddof=1 for sample standard deviation\n",
        "\n",
        "# Compute the standard error\n",
        "standard_error = sample_std / np.sqrt(n)\n",
        "\n",
        "# Set the confidence level and calculate the margin of error\n",
        "confidence_level = 0.95\n",
        "alpha = 1 - confidence_level\n",
        "# Get the z-score for a two-tailed test (since we have a 95% CI)\n",
        "z_score = stats.norm.ppf(1 - alpha/2)\n",
        "\n",
        "margin_of_error = z_score * standard_error\n",
        "\n",
        "# Compute the confidence interval\n",
        "confidence_interval_lower = sample_mean - margin_of_error\n",
        "confidence_interval_upper = sample_mean + margin_of_error\n",
        "\n",
        "print(f\"Sample Mean Sales: {sample_mean:.2f}\")\n",
        "print(f\"Sample Standard Deviation: {sample_std:.2f}\")\n",
        "print(f\"Standard Error of the Mean: {standard_error:.2f}\")\n",
        "print(f\"Z-score for {confidence_level*100}% CI: {z_score:.2f}\")\n",
        "print(f\"Margin of Error: {margin_of_error:.2f}\")\n",
        "print(f\"{confidence_level*100}% Confidence Interval for Average Sales: ({confidence_interval_lower:.2f}, {confidence_interval_upper:.2f})\")"
      ],
      "execution_count": 5,
      "outputs": [
        {
          "output_type": "stream",
          "name": "stdout",
          "text": [
            "Sample Mean Sales: 248.25\n",
            "Sample Standard Deviation: 17.27\n",
            "Standard Error of the Mean: 3.86\n",
            "Z-score for 95.0% CI: 1.96\n",
            "Margin of Error: 7.57\n",
            "95.0% Confidence Interval for Average Sales: (240.68, 255.82)\n"
          ]
        }
      ]
    }
  ]
}