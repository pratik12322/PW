{
  "nbformat": 4,
  "nbformat_minor": 0,
  "metadata": {
    "colab": {
      "provenance": []
    },
    "kernelspec": {
      "name": "python3",
      "display_name": "Python 3"
    },
    "language_info": {
      "name": "python"
    }
  },
  "cells": [
    {
      "cell_type": "markdown",
      "metadata": {
        "id": "4546b92b"
      },
      "source": [
        "1. What are data structures, and why are they important?"
      ]
    },
    {
      "cell_type": "markdown",
      "metadata": {
        "id": "8c4829b5"
      },
      "source": [
        "Data structures are ways to organize and store data so that it can be accessed and modified efficiently. They are important because they help manage large amounts of data in a way that optimizes performance."
      ]
    },
    {
      "cell_type": "markdown",
      "metadata": {
        "id": "3748134a"
      },
      "source": [
        "2. the difference between mutable and immutable data types with examples"
      ]
    },
    {
      "cell_type": "markdown",
      "metadata": {
        "id": "a7c44d67"
      },
      "source": [
        "Mutable data types can be changed after creation, like lists. Immutable ones can't be changed, like tuples.\n",
        "Example:\n",
        "Mutable → my_list = [1, 2] (you can do my_list.append(3))\n",
        "Immutable → my_tuple = (1, 2) (you can't change values inside it)"
      ]
    },
    {
      "cell_type": "markdown",
      "metadata": {
        "id": "8e9fe612"
      },
      "source": [
        "3. What are the main differences between lists and tuples in Python"
      ]
    },
    {
      "cell_type": "markdown",
      "metadata": {
        "id": "aaaceccc"
      },
      "source": [
        "Lists are mutable, tuples are immutable. Lists are slower but more flexible, while tuples are faster and more secure."
      ]
    },
    {
      "cell_type": "markdown",
      "metadata": {
        "id": "6c3c73c8"
      },
      "source": [
        "4. Describe how dictionaries store data"
      ]
    },
    {
      "cell_type": "markdown",
      "metadata": {
        "id": "d3645678"
      },
      "source": [
        "Dictionaries store data as key-value pairs using a hash map internally. Each key is unique and mapped to a specific value."
      ]
    },
    {
      "cell_type": "markdown",
      "metadata": {
        "id": "34dde945"
      },
      "source": [
        "5. Why might you use a set instead of a list in Python"
      ]
    },
    {
      "cell_type": "markdown",
      "metadata": {
        "id": "1df44e44"
      },
      "source": [
        "Sets automatically remove duplicates and are faster for checking if an item exists."
      ]
    },
    {
      "cell_type": "markdown",
      "metadata": {
        "id": "3044d2ee"
      },
      "source": [
        "6. What is a string in Python, and how is it different from a list?"
      ]
    },
    {
      "cell_type": "markdown",
      "metadata": {
        "id": "b808f619"
      },
      "source": [
        "A string is an immutable sequence of characters. Lists are mutable and can hold elements of different data types."
      ]
    },
    {
      "cell_type": "markdown",
      "metadata": {
        "id": "dbb3e493"
      },
      "source": [
        "7. How do tuples ensure data integrity in Python?"
      ]
    },
    {
      "cell_type": "markdown",
      "metadata": {
        "id": "0ddf3cb5"
      },
      "source": [
        "Tuples are immutable, which means the data can't be changed, ensuring consistency and preventing accidental modifications."
      ]
    },
    {
      "cell_type": "markdown",
      "metadata": {
        "id": "7002071d"
      },
      "source": [
        "8. What is a hash table, and how does it relate to dictionaries in Python?"
      ]
    },
    {
      "cell_type": "markdown",
      "metadata": {
        "id": "f463726e"
      },
      "source": [
        "A hash table is a data structure that maps keys to values using a hash function. Python dictionaries use hash tables under the hood."
      ]
    },
    {
      "cell_type": "markdown",
      "metadata": {
        "id": "215df77d"
      },
      "source": [
        "9. Can lists contain different data types in Python?"
      ]
    },
    {
      "cell_type": "markdown",
      "metadata": {
        "id": "80a202b0"
      },
      "source": [
        "Yes, Python lists can contain elements of different data types like integers, strings, or even other lists."
      ]
    },
    {
      "cell_type": "markdown",
      "metadata": {
        "id": "60271221"
      },
      "source": [
        "10. Explain why strings are immutable in Python."
      ]
    },
    {
      "cell_type": "markdown",
      "metadata": {
        "id": "df70a3d3"
      },
      "source": [
        "Strings are immutable for efficiency and safety—changing a string creates a new one, which helps in managing memory and avoids bugs."
      ]
    },
    {
      "cell_type": "markdown",
      "metadata": {
        "id": "f978c32a"
      },
      "source": [
        "11. What advantages do dictionaries offer over lists for certain tasks?"
      ]
    },
    {
      "cell_type": "markdown",
      "metadata": {
        "id": "44cc4d7a"
      },
      "source": [
        "Dictionaries offer faster lookups using keys and allow organizing data in a more meaningful way with key-value pairs"
      ]
    },
    {
      "cell_type": "markdown",
      "metadata": {
        "id": "d6e02912"
      },
      "source": [
        "12. Describe a scenario where using a tuple would be preferable over a list"
      ]
    },
    {
      "cell_type": "markdown",
      "metadata": {
        "id": "a3f043bd"
      },
      "source": [
        "When data shouldn't be changed, like coordinates (x, y) or dates. Tuples ensure it remains constant."
      ]
    },
    {
      "cell_type": "markdown",
      "metadata": {
        "id": "327e8fec"
      },
      "source": [
        "13. How do sets handle duplicate values in Python"
      ]
    },
    {
      "cell_type": "markdown",
      "metadata": {
        "id": "4544ecc9"
      },
      "source": [
        "Sets automatically remove duplicates when created or when elements are added."
      ]
    },
    {
      "cell_type": "markdown",
      "metadata": {
        "id": "a480b499"
      },
      "source": [
        "14. How does the “in” keyword work differently for lists and dictionaries"
      ]
    },
    {
      "cell_type": "markdown",
      "metadata": {
        "id": "b56e4a93"
      },
      "source": [
        "In lists, it checks if the value exists. In dictionaries, it checks for the existence of a key."
      ]
    },
    {
      "cell_type": "markdown",
      "metadata": {
        "id": "1b9709a6"
      },
      "source": [
        "15. Can you modify the elements of a tuple? Explain why or why not"
      ]
    },
    {
      "cell_type": "markdown",
      "metadata": {
        "id": "81e27e90"
      },
      "source": [
        "No, tuples are immutable. Once created, elements can't be changed."
      ]
    },
    {
      "cell_type": "markdown",
      "metadata": {
        "id": "bf880fb7"
      },
      "source": [
        "16. What is a nested dictionary, and give an example of its use case"
      ]
    },
    {
      "cell_type": "markdown",
      "metadata": {
        "id": "8b473e4a"
      },
      "source": [
        "A nested dictionary is a dictionary inside another dictionary.\n",
        "Example: students = {'pratik': {'age': 20, 'grade': 'A'}}"
      ]
    },
    {
      "cell_type": "markdown",
      "metadata": {
        "id": "be708518"
      },
      "source": [
        "17. Describe the time complexity of accessing elements in a dictionary"
      ]
    },
    {
      "cell_type": "markdown",
      "metadata": {
        "id": "37032ab6"
      },
      "source": [
        "Average case is O(1) due to hashing, but in the worst case (hash collisions), it can be O(n)."
      ]
    },
    {
      "cell_type": "markdown",
      "metadata": {
        "id": "ad54d980"
      },
      "source": [
        "18. In what situations are lists preferred over dictionaries"
      ]
    },
    {
      "cell_type": "markdown",
      "metadata": {
        "id": "a7676da7"
      },
      "source": [
        "When order matters and data is simple without unique keys, like a list of names or numbers."
      ]
    },
    {
      "cell_type": "markdown",
      "metadata": {
        "id": "e45fce0b"
      },
      "source": [
        "19. Why are dictionaries considered unordered, and how does that affect data retrieval"
      ]
    },
    {
      "cell_type": "markdown",
      "metadata": {
        "id": "97252e26"
      },
      "source": [
        "Before Python 3.7, dictionaries didn’t maintain insertion order. Retrieval uses key lookup, not index."
      ]
    },
    {
      "cell_type": "markdown",
      "metadata": {
        "id": "a5845713"
      },
      "source": [
        "20. Explain the difference between a list and a dictionary in terms of data retrieval"
      ]
    },
    {
      "cell_type": "markdown",
      "metadata": {
        "id": "6ed63795"
      },
      "source": [
        "Lists retrieve by index (position), while dictionaries retrieve by key (label)."
      ]
    },
    {
      "cell_type": "markdown",
      "metadata": {
        "id": "48517e73"
      },
      "source": [
        "1. Write a code to create a string with your name and print it"
      ]
    },
    {
      "cell_type": "code",
      "metadata": {
        "colab": {
          "base_uri": "https://localhost:8080/"
        },
        "id": "8e4e3b37",
        "outputId": "e9a65e49-d782-48a7-ca0c-4c1925e60019"
      },
      "source": [
        "name = \"Pratik\"\n",
        "print(name)"
      ],
      "execution_count": 1,
      "outputs": [
        {
          "output_type": "stream",
          "name": "stdout",
          "text": [
            "Pratik\n"
          ]
        }
      ]
    },
    {
      "cell_type": "markdown",
      "metadata": {
        "id": "ed9ed144"
      },
      "source": [
        "2. Write a code to find the length of the string \"Hello World\""
      ]
    },
    {
      "cell_type": "code",
      "metadata": {
        "colab": {
          "base_uri": "https://localhost:8080/"
        },
        "id": "816beeb2",
        "outputId": "e5075816-d064-4413-f527-9d598e7d37af"
      },
      "source": [
        "s = \"Hello World\"\n",
        "print(len(s))"
      ],
      "execution_count": 2,
      "outputs": [
        {
          "output_type": "stream",
          "name": "stdout",
          "text": [
            "11\n"
          ]
        }
      ]
    },
    {
      "cell_type": "markdown",
      "metadata": {
        "id": "0967c3b2"
      },
      "source": [
        "3. Write a code to slice the first 3 characters from the string \"Python Programming\""
      ]
    },
    {
      "cell_type": "code",
      "metadata": {
        "colab": {
          "base_uri": "https://localhost:8080/"
        },
        "id": "57fa08c6",
        "outputId": "d3dba6df-00cc-4359-dfeb-ea39eb7591f2"
      },
      "source": [
        "s = \"Python Programming\"\n",
        "print(s[:3])"
      ],
      "execution_count": 3,
      "outputs": [
        {
          "output_type": "stream",
          "name": "stdout",
          "text": [
            "Pyt\n"
          ]
        }
      ]
    },
    {
      "cell_type": "markdown",
      "metadata": {
        "id": "1d776f0b"
      },
      "source": [
        "4. Write a code to convert the string \"hello\" to uppercase"
      ]
    },
    {
      "cell_type": "code",
      "metadata": {
        "colab": {
          "base_uri": "https://localhost:8080/"
        },
        "id": "e2d6988a",
        "outputId": "bb6293f3-a5bd-4de8-f996-c200ccd22701"
      },
      "source": [
        "s = \"hello\"\n",
        "print(s.upper())"
      ],
      "execution_count": 4,
      "outputs": [
        {
          "output_type": "stream",
          "name": "stdout",
          "text": [
            "HELLO\n"
          ]
        }
      ]
    },
    {
      "cell_type": "markdown",
      "metadata": {
        "id": "ab1d1a6f"
      },
      "source": [
        "5. Write a code to replace the word \"apple\" with \"orange\" in the string \"I like apple\""
      ]
    },
    {
      "cell_type": "code",
      "metadata": {
        "colab": {
          "base_uri": "https://localhost:8080/"
        },
        "id": "cbc08a11",
        "outputId": "69a0f970-9d45-408c-cc42-7eee3a9c7f8d"
      },
      "source": [
        "s = \"I like apple\"\n",
        "print(s.replace(\"apple\", \"orange\"))"
      ],
      "execution_count": 5,
      "outputs": [
        {
          "output_type": "stream",
          "name": "stdout",
          "text": [
            "I like orange\n"
          ]
        }
      ]
    },
    {
      "cell_type": "markdown",
      "metadata": {
        "id": "c983c36e"
      },
      "source": [
        "6. Write a code to create a list with numbers 1 to 5 and print it"
      ]
    },
    {
      "cell_type": "code",
      "metadata": {
        "colab": {
          "base_uri": "https://localhost:8080/"
        },
        "id": "d77b89d8",
        "outputId": "64670441-ee90-4f02-abf0-78342355ec41"
      },
      "source": [
        "numbers = [1, 2, 3, 4, 5]\n",
        "print(numbers)"
      ],
      "execution_count": 6,
      "outputs": [
        {
          "output_type": "stream",
          "name": "stdout",
          "text": [
            "[1, 2, 3, 4, 5]\n"
          ]
        }
      ]
    },
    {
      "cell_type": "markdown",
      "metadata": {
        "id": "48e5bb30"
      },
      "source": [
        "7. Write a code to append the number 10 to the list [1, 2, 3, 4]"
      ]
    },
    {
      "cell_type": "code",
      "metadata": {
        "colab": {
          "base_uri": "https://localhost:8080/"
        },
        "id": "b945b3a1",
        "outputId": "0a806491-616f-4e47-d007-35127199de44"
      },
      "source": [
        "lst = [1, 2, 3, 4]\n",
        "lst.append(10)\n",
        "print(lst)"
      ],
      "execution_count": 7,
      "outputs": [
        {
          "output_type": "stream",
          "name": "stdout",
          "text": [
            "[1, 2, 3, 4, 10]\n"
          ]
        }
      ]
    },
    {
      "cell_type": "markdown",
      "metadata": {
        "id": "58f4a086"
      },
      "source": [
        "8. Write a code to remove the number 3 from the list [1, 2, 3, 4, 5]"
      ]
    },
    {
      "cell_type": "code",
      "metadata": {
        "colab": {
          "base_uri": "https://localhost:8080/"
        },
        "id": "5377e9f3",
        "outputId": "ac813fe7-fec0-42c3-95ee-283672f83942"
      },
      "source": [
        "lst = [1, 2, 3, 4, 5]\n",
        "lst.remove(3)\n",
        "print(lst)"
      ],
      "execution_count": 8,
      "outputs": [
        {
          "output_type": "stream",
          "name": "stdout",
          "text": [
            "[1, 2, 4, 5]\n"
          ]
        }
      ]
    },
    {
      "cell_type": "markdown",
      "metadata": {
        "id": "ebc84519"
      },
      "source": [
        "9. Write a code to access the second element in the list ['a', 'b', 'c', 'd']"
      ]
    },
    {
      "cell_type": "code",
      "metadata": {
        "colab": {
          "base_uri": "https://localhost:8080/"
        },
        "id": "5cc8f7fb",
        "outputId": "2a7430c1-a023-4c3a-fa87-1edcb3ed5777"
      },
      "source": [
        "chars = ['a', 'b', 'c', 'd']\n",
        "print(chars[1])"
      ],
      "execution_count": 9,
      "outputs": [
        {
          "output_type": "stream",
          "name": "stdout",
          "text": [
            "b\n"
          ]
        }
      ]
    },
    {
      "cell_type": "markdown",
      "metadata": {
        "id": "2102ec32"
      },
      "source": [
        "10. Write a code to reverse the list [10, 20, 30, 40, 50]"
      ]
    },
    {
      "cell_type": "code",
      "metadata": {
        "colab": {
          "base_uri": "https://localhost:8080/"
        },
        "id": "608a882c",
        "outputId": "aa80dbd1-6d7c-4bd1-9c71-a385df8b9f02"
      },
      "source": [
        "nums = [10, 20, 30, 40, 50]\n",
        "nums.reverse()\n",
        "print(nums)"
      ],
      "execution_count": 10,
      "outputs": [
        {
          "output_type": "stream",
          "name": "stdout",
          "text": [
            "[50, 40, 30, 20, 10]\n"
          ]
        }
      ]
    },
    {
      "cell_type": "markdown",
      "metadata": {
        "id": "f6a9c745"
      },
      "source": [
        "11. Write a code to create a tuple with the elements 100, 200, 300 and print it"
      ]
    },
    {
      "cell_type": "code",
      "metadata": {
        "colab": {
          "base_uri": "https://localhost:8080/"
        },
        "id": "f07c0fdd",
        "outputId": "a791b3de-7020-407b-f510-fa3c3ea831f7"
      },
      "source": [
        "t = (100, 200, 300)\n",
        "print(t)"
      ],
      "execution_count": 11,
      "outputs": [
        {
          "output_type": "stream",
          "name": "stdout",
          "text": [
            "(100, 200, 300)\n"
          ]
        }
      ]
    },
    {
      "cell_type": "markdown",
      "metadata": {
        "id": "039e8c23"
      },
      "source": [
        "12. Write a code to access the second-to-last element of the tuple ('red', 'green', 'blue', 'yellow')"
      ]
    },
    {
      "cell_type": "code",
      "metadata": {
        "colab": {
          "base_uri": "https://localhost:8080/"
        },
        "id": "62eda677",
        "outputId": "bfc500d3-36cc-44e6-d6da-d834389b237c"
      },
      "source": [
        "colors = ('red', 'green', 'blue', 'yellow')\n",
        "print(colors[-2])"
      ],
      "execution_count": 12,
      "outputs": [
        {
          "output_type": "stream",
          "name": "stdout",
          "text": [
            "blue\n"
          ]
        }
      ]
    },
    {
      "cell_type": "markdown",
      "metadata": {
        "id": "defd4ccf"
      },
      "source": [
        "13. Write a code to find the minimum number in the tuple (10, 20, 5, 15)"
      ]
    },
    {
      "cell_type": "code",
      "metadata": {
        "colab": {
          "base_uri": "https://localhost:8080/"
        },
        "id": "ba32e69e",
        "outputId": "9f4f2499-e439-45bf-e52b-162e271d49c3"
      },
      "source": [
        "t = (10, 20, 5, 15)\n",
        "print(min(t))"
      ],
      "execution_count": 13,
      "outputs": [
        {
          "output_type": "stream",
          "name": "stdout",
          "text": [
            "5\n"
          ]
        }
      ]
    },
    {
      "cell_type": "markdown",
      "metadata": {
        "id": "9d32d446"
      },
      "source": [
        "14. Write a code to find the index of the element \"cat\" in the tuple ('dog', 'cat', 'rabbit')"
      ]
    },
    {
      "cell_type": "code",
      "metadata": {
        "colab": {
          "base_uri": "https://localhost:8080/"
        },
        "id": "aa0cbe9d",
        "outputId": "31cef14e-56a7-4935-9177-954e6b9565e0"
      },
      "source": [
        "animals = ('dog', 'cat', 'rabbit')\n",
        "print(animals.index('cat'))"
      ],
      "execution_count": 14,
      "outputs": [
        {
          "output_type": "stream",
          "name": "stdout",
          "text": [
            "1\n"
          ]
        }
      ]
    },
    {
      "cell_type": "markdown",
      "metadata": {
        "id": "3aecdf75"
      },
      "source": [
        "15. Write a code to create a tuple containing three different fruits and check if \"kiwi\" is in it"
      ]
    },
    {
      "cell_type": "code",
      "metadata": {
        "colab": {
          "base_uri": "https://localhost:8080/"
        },
        "id": "86642dd4",
        "outputId": "eee9c703-3c4a-42d8-9da1-fdffe0654e8e"
      },
      "source": [
        "fruits = ('apple', 'banana', 'cherry')\n",
        "print(\"kiwi\" in fruits)"
      ],
      "execution_count": 15,
      "outputs": [
        {
          "output_type": "stream",
          "name": "stdout",
          "text": [
            "False\n"
          ]
        }
      ]
    },
    {
      "cell_type": "markdown",
      "metadata": {
        "id": "ee5b6f90"
      },
      "source": [
        "16. Write a code to create a set with the elements 'a', 'b', 'c' and print it"
      ]
    },
    {
      "cell_type": "code",
      "metadata": {
        "colab": {
          "base_uri": "https://localhost:8080/"
        },
        "id": "39a22016",
        "outputId": "3d820a53-0bda-4f56-cdf9-4689f3fc2d8a"
      },
      "source": [
        "s = {'a', 'b', 'c'}\n",
        "print(s)"
      ],
      "execution_count": 16,
      "outputs": [
        {
          "output_type": "stream",
          "name": "stdout",
          "text": [
            "{'a', 'c', 'b'}\n"
          ]
        }
      ]
    },
    {
      "cell_type": "markdown",
      "metadata": {
        "id": "bc1b0e73"
      },
      "source": [
        "17. Write a code to clear all elements from the set {1, 2, 3, 4, 5}"
      ]
    },
    {
      "cell_type": "code",
      "metadata": {
        "colab": {
          "base_uri": "https://localhost:8080/"
        },
        "id": "b3c2b5f6",
        "outputId": "47c3d850-805e-47d4-8067-25ef26c39021"
      },
      "source": [
        "s = {1, 2, 3, 4, 5}\n",
        "s.clear()\n",
        "print(s)"
      ],
      "execution_count": 17,
      "outputs": [
        {
          "output_type": "stream",
          "name": "stdout",
          "text": [
            "set()\n"
          ]
        }
      ]
    },
    {
      "cell_type": "markdown",
      "metadata": {
        "id": "de245af4"
      },
      "source": [
        "18. Write a code to remove the element 4 from the set {1, 2, 3, 4}"
      ]
    },
    {
      "cell_type": "code",
      "metadata": {
        "colab": {
          "base_uri": "https://localhost:8080/"
        },
        "id": "41837879",
        "outputId": "ea8afef3-aab3-456e-cfb9-d7187cf83444"
      },
      "source": [
        "s = {1, 2, 3, 4}\n",
        "s.remove(4)\n",
        "print(s)"
      ],
      "execution_count": 18,
      "outputs": [
        {
          "output_type": "stream",
          "name": "stdout",
          "text": [
            "{1, 2, 3}\n"
          ]
        }
      ]
    },
    {
      "cell_type": "markdown",
      "metadata": {
        "id": "8d815443"
      },
      "source": [
        "19. Write a code to find the union of two sets {1, 2, 3} and {3, 4, 5}"
      ]
    },
    {
      "cell_type": "code",
      "metadata": {
        "colab": {
          "base_uri": "https://localhost:8080/"
        },
        "id": "79c0c1c5",
        "outputId": "ed44e5fa-e684-433b-f654-db1f88360eb7"
      },
      "source": [
        "a = {1, 2, 3}\n",
        "b = {3, 4, 5}\n",
        "print(a.union(b))"
      ],
      "execution_count": 19,
      "outputs": [
        {
          "output_type": "stream",
          "name": "stdout",
          "text": [
            "{1, 2, 3, 4, 5}\n"
          ]
        }
      ]
    },
    {
      "cell_type": "markdown",
      "metadata": {
        "id": "6f33e1b9"
      },
      "source": [
        "20. Write a code to find the intersection of two sets {1, 2, 3} and {2, 3, 4}"
      ]
    },
    {
      "cell_type": "code",
      "metadata": {
        "colab": {
          "base_uri": "https://localhost:8080/"
        },
        "id": "3da68898",
        "outputId": "c1e98dce-8cda-4ff7-fd28-61638e7e7ce6"
      },
      "source": [
        "a = {1, 2, 3}\n",
        "b = {2, 3, 4}\n",
        "print(a.intersection(b))"
      ],
      "execution_count": 20,
      "outputs": [
        {
          "output_type": "stream",
          "name": "stdout",
          "text": [
            "{2, 3}\n"
          ]
        }
      ]
    },
    {
      "cell_type": "markdown",
      "metadata": {
        "id": "feb32650"
      },
      "source": [
        "21. Write a code to create a dictionary with the keys \"name\", \"age\", and \"city\", and print it"
      ]
    },
    {
      "cell_type": "code",
      "metadata": {
        "colab": {
          "base_uri": "https://localhost:8080/"
        },
        "id": "7ee6ae2e",
        "outputId": "6a230537-cd5d-4e99-b830-cee08438d65b"
      },
      "source": [
        "d = {\"name\": \"Pratik\", \"age\": 21, \"city\": \"Delhi\"}\n",
        "print(d)"
      ],
      "execution_count": 21,
      "outputs": [
        {
          "output_type": "stream",
          "name": "stdout",
          "text": [
            "{'name': 'Pratik', 'age': 21, 'city': 'Delhi'}\n"
          ]
        }
      ]
    },
    {
      "cell_type": "markdown",
      "metadata": {
        "id": "1530e0e5"
      },
      "source": [
        "22. Write a code to add a new key-value pair \"country\": \"USA\" to the dictionary {'name': 'John', 'age': 25}"
      ]
    },
    {
      "cell_type": "code",
      "metadata": {
        "colab": {
          "base_uri": "https://localhost:8080/"
        },
        "id": "39db6090",
        "outputId": "94b87c6f-eb53-46a3-f7ad-1fdc97d7a494"
      },
      "source": [
        "d = {'name': 'John', 'age': 25}\n",
        "d['country'] = 'USA'\n",
        "print(d)"
      ],
      "execution_count": 22,
      "outputs": [
        {
          "output_type": "stream",
          "name": "stdout",
          "text": [
            "{'name': 'John', 'age': 25, 'country': 'USA'}\n"
          ]
        }
      ]
    },
    {
      "cell_type": "markdown",
      "metadata": {
        "id": "de14213b"
      },
      "source": [
        "23. Write a code to access the value associated with the key \"name\" in the dictionary {'name': 'Alice', 'age': 30}"
      ]
    },
    {
      "cell_type": "code",
      "metadata": {
        "colab": {
          "base_uri": "https://localhost:8080/"
        },
        "id": "cb753958",
        "outputId": "127278a1-3f1b-46b9-bc78-fda78b749f20"
      },
      "source": [
        "d = {'name': 'Alice', 'age': 30}\n",
        "print(d['name'])"
      ],
      "execution_count": 23,
      "outputs": [
        {
          "output_type": "stream",
          "name": "stdout",
          "text": [
            "Alice\n"
          ]
        }
      ]
    },
    {
      "cell_type": "markdown",
      "metadata": {
        "id": "108a9534"
      },
      "source": [
        "24. Write a code to remove the key \"age\" from the dictionary {'name': 'Bob', 'age': 22, 'city': 'New York'}"
      ]
    },
    {
      "cell_type": "code",
      "metadata": {
        "colab": {
          "base_uri": "https://localhost:8080/"
        },
        "id": "bafdf4f2",
        "outputId": "6564d57e-1e6d-413b-de28-7e8eb4e45332"
      },
      "source": [
        "d = {'name': 'Bob', 'age': 22, 'city': 'New York'}\n",
        "del d['age']\n",
        "print(d)"
      ],
      "execution_count": 24,
      "outputs": [
        {
          "output_type": "stream",
          "name": "stdout",
          "text": [
            "{'name': 'Bob', 'city': 'New York'}\n"
          ]
        }
      ]
    },
    {
      "cell_type": "markdown",
      "metadata": {
        "id": "4833750a"
      },
      "source": [
        "25. Write a code to check if the key \"city\" exists in the dictionary {'name': 'Alice', 'city': 'Paris'}"
      ]
    },
    {
      "cell_type": "code",
      "metadata": {
        "colab": {
          "base_uri": "https://localhost:8080/"
        },
        "id": "a4097f5f",
        "outputId": "97b285d3-96e4-445c-dc84-5106c3d62d2b"
      },
      "source": [
        "d = {'name': 'Alice', 'city': 'Paris'}\n",
        "print('city' in d)"
      ],
      "execution_count": 25,
      "outputs": [
        {
          "output_type": "stream",
          "name": "stdout",
          "text": [
            "True\n"
          ]
        }
      ]
    },
    {
      "cell_type": "markdown",
      "metadata": {
        "id": "57ee2fd7"
      },
      "source": [
        "26. Write a code to create a list, a tuple, and a dictionary, and print them all"
      ]
    },
    {
      "cell_type": "code",
      "metadata": {
        "colab": {
          "base_uri": "https://localhost:8080/"
        },
        "id": "9037c67a",
        "outputId": "1417499c-a24b-46a9-9f0c-16dc3a7afd2e"
      },
      "source": [
        "lst = [1, 2, 3]\n",
        "tpl = (4, 5, 6)\n",
        "dct = {'a': 1, 'b': 2}\n",
        "print(lst, tpl, dct)"
      ],
      "execution_count": 26,
      "outputs": [
        {
          "output_type": "stream",
          "name": "stdout",
          "text": [
            "[1, 2, 3] (4, 5, 6) {'a': 1, 'b': 2}\n"
          ]
        }
      ]
    },
    {
      "cell_type": "markdown",
      "metadata": {
        "id": "979bf603"
      },
      "source": [
        "27. Write a code to create a list of 5 random numbers between 1 and 100, sort it in ascending order, and print the result."
      ]
    },
    {
      "cell_type": "code",
      "metadata": {
        "colab": {
          "base_uri": "https://localhost:8080/"
        },
        "id": "569363ca",
        "outputId": "b1ff6bef-3580-42f9-d4b8-af7cb01b49e7"
      },
      "source": [
        "import random\n",
        "nums = random.sample(range(1, 101), 5)\n",
        "nums.sort()\n",
        "print(nums)"
      ],
      "execution_count": 27,
      "outputs": [
        {
          "output_type": "stream",
          "name": "stdout",
          "text": [
            "[45, 66, 83, 85, 96]\n"
          ]
        }
      ]
    },
    {
      "cell_type": "markdown",
      "metadata": {
        "id": "bc535ca2"
      },
      "source": [
        "28. Write a code to create a list with strings and print the element at the third index"
      ]
    },
    {
      "cell_type": "code",
      "metadata": {
        "colab": {
          "base_uri": "https://localhost:8080/"
        },
        "id": "be65c1a9",
        "outputId": "a1dec4f9-c7d8-4aa8-c897-2b1a1a94db7b"
      },
      "source": [
        "words = [\"apple\", \"banana\", \"cherry\", \"date\", \"fig\"]\n",
        "print(words[3])"
      ],
      "execution_count": 28,
      "outputs": [
        {
          "output_type": "stream",
          "name": "stdout",
          "text": [
            "date\n"
          ]
        }
      ]
    },
    {
      "cell_type": "markdown",
      "metadata": {
        "id": "45035c27"
      },
      "source": [
        "29. Write a code to combine two dictionaries into one and print the result"
      ]
    },
    {
      "cell_type": "code",
      "metadata": {
        "colab": {
          "base_uri": "https://localhost:8080/"
        },
        "id": "0ffd8c5b",
        "outputId": "452740a0-d9ac-4732-8dab-033f820277cf"
      },
      "source": [
        "d1 = {'a': 1, 'b': 2}\n",
        "d2 = {'c': 3, 'd': 4}\n",
        "d1.update(d2)\n",
        "print(d1)"
      ],
      "execution_count": 29,
      "outputs": [
        {
          "output_type": "stream",
          "name": "stdout",
          "text": [
            "{'a': 1, 'b': 2, 'c': 3, 'd': 4}\n"
          ]
        }
      ]
    },
    {
      "cell_type": "markdown",
      "metadata": {
        "id": "19db8203"
      },
      "source": [
        "30. Write a code to convert a list of strings into a set"
      ]
    },
    {
      "cell_type": "code",
      "metadata": {
        "colab": {
          "base_uri": "https://localhost:8080/"
        },
        "id": "df29ddf6",
        "outputId": "79424a15-b343-4cb5-bacd-db6e1d237811"
      },
      "source": [
        "words = [\"hello\", \"world\", \"hello\"]\n",
        "s = set(words)\n",
        "print(s)"
      ],
      "execution_count": 30,
      "outputs": [
        {
          "output_type": "stream",
          "name": "stdout",
          "text": [
            "{'hello', 'world'}\n"
          ]
        }
      ]
    }
  ]
}