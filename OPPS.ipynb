{
  "nbformat": 4,
  "nbformat_minor": 0,
  "metadata": {
    "colab": {
      "provenance": []
    },
    "kernelspec": {
      "name": "python3",
      "display_name": "Python 3"
    },
    "language_info": {
      "name": "python"
    }
  },
  "cells": [
    {
      "cell_type": "markdown",
      "metadata": {
        "id": "4f65ea13"
      },
      "source": [
        "### 1. What is Object-Oriented Programming (OOP)?\n",
        "\n",
        "Think of OOP as a way of organizing your code. Instead of having a jumble of functions and variables, you group everything into \"objects.\" Each object holds both the data it needs (we call these *attributes*) and the things it can do (we call these *methods*). This makes your code much cleaner, easier to reuse, and simpler to manage, especially as your projects get bigger.\n",
        "\n",
        "### 2. What is a class in OOP?\n",
        "\n",
        "A class is like a recipe or a blueprint for creating objects. It doesn't do anything on its own, but it defines all the characteristics and behaviors that an object made from it will have. For example, you could have a `Dog` class that says all dogs have a `name` and can `bark()`.\n",
        "\n",
        "### 3. What is an object in OOP?\n",
        "\n",
        "An object is the real deal, created from a class. If a `Dog` class is the blueprint, then an actual dog, like your pet Fido, would be an object. Fido has a specific name (\"Fido\") and can perform the `bark()` action. You can create many objects from a single class, each with its own unique data.\n",
        "\n",
        "### 4. What's the difference between abstraction and encapsulation?\n",
        "\n",
        "They might sound similar, but they have different jobs:\n",
        "\n",
        "*   **Abstraction** is all about hiding the complicated stuff. When you drive a car, you don't need to know how the engine works; you just use the steering wheel and pedals. That's abstraction! In code, it means showing only the essential features of an object and hiding the unnecessary details.\n",
        "\n",
        "*   **Encapsulation** is about bundling data and the methods that work on that data together in a neat package (a class). It also involves protecting that data from being changed in unexpected ways. Think of it like a capsule for medicine – the outer layer protects what's inside.\n",
        "\n",
        "### 5. What are \"dunder\" methods in Python?\n",
        "\n",
        "\"Dunder\" is just a shorter way of saying \"double underscore.\" In Python, methods that start and end with double underscores, like `__init__()` or `__str__()`, are special. They're not meant to be called directly. Instead, they let you customize how your objects behave with Python's built-in features. For example, defining the `__str__()` method lets you decide what happens when you try to `print()` one of your objects."
      ]
    },
    {
      "cell_type": "markdown",
      "metadata": {
        "id": "59cefcdc"
      },
      "source": [
        "### 6. Explain the concept of inheritance in OOP\n",
        "\n",
        "Inheritance is like a family tree for your classes. A \"child\" class can inherit all the traits (attributes and methods) from a \"parent\" class. This is a huge time-saver because you don't have to write the same code over and over again. For instance, you could have a general `Animal` class, and then a `Dog` class that inherits from it, automatically getting all the basic animal features.\n",
        "\n",
        "### 7. What is polymorphism in OOP?\n",
        "\n",
        "Polymorphism is a fancy word that means \"many forms.\" In programming, it means you can have one method that does different things depending on the object that's using it. Imagine you have a `speak()` method. For a `Dog` object, `speak()` would make it bark, but for a `Cat` object, it would make it meow. Same method name, but different results depending on the context.\n",
        "\n",
        "### 8. How is encapsulation achieved in Python?\n",
        "\n",
        "In Python, we can hint that certain things should be kept private by using underscores. A single underscore `_` at the beginning of a variable name is a convention that means, \"Hey, you probably shouldn't touch this from outside the class.\" A double underscore `__` is a stronger signal that an attribute is private and shouldn't be accessed directly. To control how these attributes are accessed, we can use special methods called getters and setters.\n",
        "\n",
        "### 9. What is a constructor in Python?\n",
        "\n",
        "The constructor in Python is a special method called `__init__()`. It's automatically called whenever you create a new object from a class. Its main job is to set up the object's initial state, like giving it a name or setting its default values."
      ]
    },
    {
      "cell_type": "code",
      "metadata": {
        "id": "845e375e"
      },
      "source": [
        "class Person:\n",
        "    def __init__(self, name):\n",
        "        self.name = name"
      ],
      "execution_count": 4,
      "outputs": []
    },
    {
      "cell_type": "markdown",
      "metadata": {
        "id": "00d68218"
      },
      "source": [
        "### 10. What are class and static methods in Python?\n",
        "\n",
        "*   A **class method**, marked with `@classmethod`, works with the class itself rather than a specific object. It takes the class (`cls`) as its first argument and can be used to do things that involve the class as a whole, like creating objects in a specific way.\n",
        "\n",
        "*   A **static method**, marked with `@staticmethod`, is like a regular function that just happens to live inside a class. It doesn't know anything about the class or the object, so it can't change them. It's often used for utility functions that are related to the class but don't need to access its data.\n",
        "\n",
        "### 11. What is method overloading in Python?\n",
        "\n",
        "Python doesn't have method overloading in the traditional sense, where you can have multiple methods with the same name but different parameters. However, we can achieve a similar effect by using default arguments or by accepting a variable number of arguments (`*args` and `**kwargs`). This lets one function behave differently based on the arguments it receives."
      ]
    },
    {
      "cell_type": "code",
      "metadata": {
        "id": "b93bc8ff"
      },
      "source": [
        "def greet(name=None):\n",
        "    if name:\n",
        "        print(f\"Hello, {name}\")\n",
        "    else:\n",
        "        print(\"Hello!\")"
      ],
      "execution_count": 3,
      "outputs": []
    },
    {
      "cell_type": "markdown",
      "metadata": {
        "id": "7a5a4b31"
      },
      "source": [
        "### 12. What is method overriding in OOP?\n",
        "\n",
        "Method overriding is when a child class provides its own version of a method that it inherited from its parent class. This allows the child class to customize or completely change the behavior of the inherited method to suit its specific needs."
      ]
    },
    {
      "cell_type": "markdown",
      "metadata": {
        "id": "7414fb08"
      },
      "source": [
        "### 13. What is a property decorator in Python?\n",
        "\n",
        "The `@property` decorator in Python is a neat trick that lets you treat a method like it's a regular attribute. This is really useful when you want to have a \"read-only\" property or a value that's calculated on the fly. For example, instead of having an `area` attribute that you have to update every time the radius of a circle changes, you can use a `@property` method to calculate it automatically whenever you need it.\n",
        "\n",
        "### 14. Why is polymorphism important in OOP?\n",
        "\n",
        "Polymorphism is a big deal in OOP because it makes your code incredibly flexible and much easier to maintain. It lets you write more general and reusable code by allowing different types of objects to be handled in the same way. Think of it as having a single remote control that can work with your TV, your sound system, and your DVD player—it simplifies everything!\n",
        "\n",
        "### 15. What is an abstract class in Python?\n",
        "\n",
        "An abstract class is like a template for other classes. You can't create an object directly from an abstract class, but you can use it to define a set of common methods that all of its child classes must have. It's a way of enforcing a certain structure on your code and making sure that all the related classes have the same basic functionality.\n",
        "\n",
        "### 16. What are the advantages of OOP?\n",
        "\n",
        "Object-Oriented Programming has a lot of great benefits that make it a popular choice for many developers:\n",
        "\n",
        "*   **Reusability:** You can reuse code from existing classes to create new ones, which saves a lot of time and effort.\n",
        "*   **Data Protection:** Encapsulation helps protect your data from being changed in unexpected ways, which makes your code more secure and reliable.\n",
        "*   **Simplicity:** Abstraction hides all the complicated details and lets you focus on what's important, which makes your code easier to understand and work with.\n",
        "*   **Flexibility:** Polymorphism allows you to write code that can work with many different types of objects, which makes it incredibly versatile.\n",
        "*   **Easier Maintenance:** Because your code is so well-organized, it's much easier to find and fix bugs, and to add new features without breaking everything.\n",
        "\n",
        "### 17. What is the difference between a class variable and an instance variable?\n",
        "\n",
        "The main difference between a class variable and an instance variable is how they're shared:\n",
        "\n",
        "*   A **class variable** is like a shared piece of information that's the same for all objects created from that class. If you change it, it changes for everyone.\n",
        "*   An **instance variable** is a personal piece of information that's unique to each object. If you change it for one object, it doesn't affect any of the others.\n",
        "\n",
        "### 18. What is multiple inheritance in Python?\n",
        "\n",
        "Multiple inheritance is when a class inherits from more than one parent class. This can be a powerful tool, but it can also make your code more complicated, so it's important to use it carefully."
      ]
    },
    {
      "cell_type": "code",
      "metadata": {
        "id": "ea048929"
      },
      "source": [
        "class Circle:\n",
        "    def __init__(self, radius):\n",
        "        self._radius = radius\n",
        "\n",
        "    @property\n",
        "    def area(self):\n",
        "        return 3.14 * self._radius ** 2\n",
        "\n",
        "from abc import ABC, abstractmethod\n",
        "\n",
        "class Animal(ABC):\n",
        "    @abstractmethod\n",
        "    def sound(self):\n",
        "        pass\n",
        "\n",
        "class Student:\n",
        "    school = \"ABC School\"  # class variable\n",
        "\n",
        "    def __init__(self, name):\n",
        "        self.name = name  # instance variable\n",
        "\n",
        "class A:\n",
        "    pass\n",
        "\n",
        "class B:\n",
        "    pass\n",
        "\n",
        "class C(A, B):  # multiple inheritance\n",
        "    pass"
      ],
      "execution_count": 6,
      "outputs": []
    },
    {
      "cell_type": "markdown",
      "metadata": {
        "id": "f5ffd029"
      },
      "source": [
        "### 19. Explain the purpose of `__str__` and `__repr__` methods in Python\n",
        "\n",
        "*   `__str__` is for creating a user-friendly string representation of an object. When you use the `print()` function on one of your objects, Python looks for this method to decide what to show. The goal is to make it readable for the end-user.\n",
        "\n",
        "*   `__repr__` is for creating a developer-friendly, more technical representation of an object. It's especially useful for debugging because it's meant to give you an unambiguous string that, ideally, you could use to recreate the object.\n",
        "\n",
        "### 20. What is the significance of the `super()` function in Python?\n",
        "\n",
        "The `super()` function is a handy tool that lets you call methods from a parent class. It's most often used in inheritance when you want to add to or change the functionality of a method from the parent, but you still want to use the original method as a starting point.\n",
        "\n",
        "### 21. What is the significance of the `__del__` method in Python?\n",
        "\n",
        "The `__del__` method is a special \"destructor\" that gets called right before an object is deleted. You can use it to clean up any loose ends, like closing a file or releasing a resource that the object was using. However, it's a good idea to be careful with it, as it can sometimes behave in unexpected ways.\n",
        "\n",
        "### 22. What is the difference between `@staticmethod` and `@classmethod` in Python?\n",
        "\n",
        "*   A `@staticmethod` is like a regular function that just happens to be inside a class. It doesn't get any information about the class or a specific object, so it can't change them.\n",
        "\n",
        "*   A `@classmethod`, on the other hand, gets the class itself as its first argument (usually called `cls`). This means it can work with and even modify things that are shared across all objects of that class.\n",
        "\n",
        "### 23. How does polymorphism work in Python with inheritance?\n",
        "\n",
        "Polymorphism in Python is all about flexibility. You can have a method in a parent class and then create a new version of that same method in a child class. When you call that method, Python is smart enough to figure out which version to use based on the type of object you're working with.\n",
        "\n",
        "### 24. What is method chaining in Python OOP?\n",
        "\n",
        "Method chaining is a cool trick that lets you call several methods on the same object, one after the other, all in a single line of code. You can do this by having each method return the object itself (`self`), so you can immediately call the next method on it."
      ]
    },
    {
      "cell_type": "code",
      "metadata": {
        "colab": {
          "base_uri": "https://localhost:8080/"
        },
        "id": "e3caf5a9",
        "outputId": "7384d96b-7cc8-48a6-e15d-364bb382a7b4"
      },
      "source": [
        "class Calculator:\n",
        "    def __init__(self):\n",
        "        self.result = 0\n",
        "\n",
        "    def add(self, x):\n",
        "        self.result += x\n",
        "        return self\n",
        "\n",
        "# Example of method chaining\n",
        "calc = Calculator()\n",
        "result = calc.add(5).add(10).add(20).result\n",
        "print(result)"
      ],
      "execution_count": 7,
      "outputs": [
        {
          "output_type": "stream",
          "name": "stdout",
          "text": [
            "35\n"
          ]
        }
      ]
    },
    {
      "cell_type": "markdown",
      "metadata": {
        "id": "d454860d"
      },
      "source": [
        "### 25. What is the purpose of the `__call__` method in Python?\n",
        "\n",
        "If you add a `__call__` method to your class, you can treat the objects you create from it as if they were functions. This is useful when you want to create objects that can be \"called\" to perform an action."
      ]
    },
    {
      "cell_type": "code",
      "metadata": {
        "colab": {
          "base_uri": "https://localhost:8080/"
        },
        "id": "896df9da",
        "outputId": "b3be2299-9d82-4e2d-b3bb-074532ae9546"
      },
      "source": [
        "class Printer:\n",
        "    def __call__(self, msg):\n",
        "        print(msg)\n",
        "\n",
        "p = Printer()\n",
        "p(\"Hello\")  # This now works like a function call"
      ],
      "execution_count": 9,
      "outputs": [
        {
          "output_type": "stream",
          "name": "stdout",
          "text": [
            "Hello\n"
          ]
        }
      ]
    },
    {
      "cell_type": "markdown",
      "source": [
        "# Coding Problems"
      ],
      "metadata": {
        "id": "1UTlv1yUE7Mn"
      }
    },
    {
      "cell_type": "markdown",
      "metadata": {
        "id": "0da9da53"
      },
      "source": [
        "# Coding Problems"
      ]
    },
    {
      "cell_type": "code",
      "metadata": {
        "colab": {
          "base_uri": "https://localhost:8080/"
        },
        "id": "b29073e7",
        "outputId": "8fb4a2fc-2c00-4c3f-c63a-f606d56b01a5"
      },
      "source": [
        "# 1. Animal & Dog with method overriding\n",
        "class Animal:\n",
        "    def speak(self):\n",
        "        print(\"Animal speaks\")\n",
        "\n",
        "class Dog(Animal):\n",
        "    def speak(self):\n",
        "        print(\"Bark!\")\n",
        "\n",
        "dog = Dog()\n",
        "dog.speak()"
      ],
      "execution_count": 10,
      "outputs": [
        {
          "output_type": "stream",
          "name": "stdout",
          "text": [
            "Bark!\n"
          ]
        }
      ]
    },
    {
      "cell_type": "code",
      "metadata": {
        "colab": {
          "base_uri": "https://localhost:8080/"
        },
        "id": "89fef7a3",
        "outputId": "22ca60ba-007a-4f61-9c84-9767c77c2272"
      },
      "source": [
        "# 2. Abstract class Shape with Circle and Rectangle\n",
        "from abc import ABC, abstractmethod\n",
        "\n",
        "class Shape(ABC):\n",
        "    @abstractmethod\n",
        "    def area(self):\n",
        "        pass\n",
        "\n",
        "class Circle(Shape):\n",
        "    def __init__(self, radius):\n",
        "        self.radius = radius\n",
        "\n",
        "    def area(self):\n",
        "        return 3.14 * self.radius * self.radius\n",
        "\n",
        "class Rectangle(Shape):\n",
        "    def __init__(self, width, height):\n",
        "        self.width = width\n",
        "        self.height = height\n",
        "\n",
        "    def area(self):\n",
        "        return self.width * self.height\n",
        "\n",
        "c = Circle(5)\n",
        "r = Rectangle(4, 6)\n",
        "print(c.area())\n",
        "print(r.area())"
      ],
      "execution_count": 11,
      "outputs": [
        {
          "output_type": "stream",
          "name": "stdout",
          "text": [
            "78.5\n",
            "24\n"
          ]
        }
      ]
    },
    {
      "cell_type": "code",
      "metadata": {
        "colab": {
          "base_uri": "https://localhost:8080/"
        },
        "id": "77f7ac1f",
        "outputId": "43098127-48c9-4dee-b621-26e23e760a3e"
      },
      "source": [
        "# 3. Multi-level Inheritance: Vehicle → Car → ElectricCar\n",
        "class Vehicle:\n",
        "    def __init__(self, type):\n",
        "        self.type = type\n",
        "\n",
        "class Car(Vehicle):\n",
        "    def __init__(self, type, brand):\n",
        "        super().__init__(type)\n",
        "        self.brand = brand\n",
        "\n",
        "class ElectricCar(Car):\n",
        "    def __init__(self, type, brand, battery):\n",
        "        super().__init__(type, brand)\n",
        "        self.battery = battery\n",
        "\n",
        "e = ElectricCar(\"Electric\", \"Tesla\", \"100kWh\")\n",
        "print(e.type, e.brand, e.battery)"
      ],
      "execution_count": 12,
      "outputs": [
        {
          "output_type": "stream",
          "name": "stdout",
          "text": [
            "Electric Tesla 100kWh\n"
          ]
        }
      ]
    },
    {
      "cell_type": "code",
      "metadata": {
        "colab": {
          "base_uri": "https://localhost:8080/"
        },
        "id": "900b7ca8",
        "outputId": "0fc45d67-5c5d-418f-9c7e-787f0f76f4f1"
      },
      "source": [
        "# 4. Polymorphism with Bird, Sparrow, Penguin\n",
        "class Bird:\n",
        "    def fly(self):\n",
        "        print(\"Bird flies\")\n",
        "\n",
        "class Sparrow(Bird):\n",
        "    def fly(self):\n",
        "        print(\"Sparrow can fly\")\n",
        "\n",
        "class Penguin(Bird):\n",
        "    def fly(self):\n",
        "        print(\"Penguin cannot fly\")\n",
        "\n",
        "b1 = Sparrow()\n",
        "b2 = Penguin()\n",
        "b1.fly()\n",
        "b2.fly()"
      ],
      "execution_count": 13,
      "outputs": [
        {
          "output_type": "stream",
          "name": "stdout",
          "text": [
            "Sparrow can fly\n",
            "Penguin cannot fly\n"
          ]
        }
      ]
    },
    {
      "cell_type": "code",
      "metadata": {
        "colab": {
          "base_uri": "https://localhost:8080/"
        },
        "id": "2369daf1",
        "outputId": "6620196b-0743-43c5-e9b1-3a477a8a2cef"
      },
      "source": [
        "# 5. Encapsulation in BankAccount\n",
        "class BankAccount:\n",
        "    def __init__(self):\n",
        "        self.__balance = 0\n",
        "\n",
        "    def deposit(self, amount):\n",
        "        self.__balance += amount\n",
        "\n",
        "    def withdraw(self, amount):\n",
        "        if amount <= self.__balance:\n",
        "            self.__balance -= amount\n",
        "\n",
        "    def check_balance(self):\n",
        "        return self.__balance\n",
        "\n",
        "acc = BankAccount()\n",
        "acc.deposit(1000)\n",
        "acc.withdraw(300)\n",
        "print(acc.check_balance())"
      ],
      "execution_count": 14,
      "outputs": [
        {
          "output_type": "stream",
          "name": "stdout",
          "text": [
            "700\n"
          ]
        }
      ]
    },
    {
      "cell_type": "code",
      "metadata": {
        "colab": {
          "base_uri": "https://localhost:8080/"
        },
        "id": "98895eda",
        "outputId": "00123566-f0f5-4fdb-d7eb-040992919606"
      },
      "source": [
        "# 6. Runtime Polymorphism: Instrument → Guitar, Piano\n",
        "class Instrument:\n",
        "    def play(self):\n",
        "        print(\"Playing instrument\")\n",
        "\n",
        "class Guitar(Instrument):\n",
        "    def play(self):\n",
        "        print(\"Strumming guitar\")\n",
        "\n",
        "class Piano(Instrument):\n",
        "    def play(self):\n",
        "        print(\"Playing piano\")\n",
        "\n",
        "i1 = Guitar()\n",
        "i2 = Piano()\n",
        "i1.play()\n",
        "i2.play()"
      ],
      "execution_count": 15,
      "outputs": [
        {
          "output_type": "stream",
          "name": "stdout",
          "text": [
            "Strumming guitar\n",
            "Playing piano\n"
          ]
        }
      ]
    },
    {
      "cell_type": "code",
      "metadata": {
        "colab": {
          "base_uri": "https://localhost:8080/"
        },
        "id": "1427a0fc",
        "outputId": "16dac289-baec-4d03-f891-e4e8a207a85e"
      },
      "source": [
        "# 7. Class method and static method in MathOperations\n",
        "class MathOperations:\n",
        "    @classmethod\n",
        "    def add_numbers(cls, a, b):\n",
        "        return a + b\n",
        "\n",
        "    @staticmethod\n",
        "    def subtract_numbers(a, b):\n",
        "        return a - b\n",
        "\n",
        "print(MathOperations.add_numbers(5, 3))\n",
        "print(MathOperations.subtract_numbers(10, 4))"
      ],
      "execution_count": 16,
      "outputs": [
        {
          "output_type": "stream",
          "name": "stdout",
          "text": [
            "8\n",
            "6\n"
          ]
        }
      ]
    },
    {
      "cell_type": "code",
      "metadata": {
        "colab": {
          "base_uri": "https://localhost:8080/"
        },
        "id": "98ae8c41",
        "outputId": "11e4dc5e-f23a-40fc-9b49-dee87a4b4d6d"
      },
      "source": [
        "# 8. Counting persons with class method\n",
        "class Person:\n",
        "    count = 0\n",
        "\n",
        "    def __init__(self, name):\n",
        "        self.name = name\n",
        "        Person.count += 1\n",
        "\n",
        "    @classmethod\n",
        "    def total_persons(cls):\n",
        "        return cls.count\n",
        "\n",
        "p1 = Person(\"Ravi\")\n",
        "p2 = Person(\"Ritu\")\n",
        "print(Person.total_persons())"
      ],
      "execution_count": 17,
      "outputs": [
        {
          "output_type": "stream",
          "name": "stdout",
          "text": [
            "2\n"
          ]
        }
      ]
    },
    {
      "cell_type": "code",
      "metadata": {
        "colab": {
          "base_uri": "https://localhost:8080/"
        },
        "id": "34b3728c",
        "outputId": "a1945834-64d6-469e-dc52-3ba735a16a72"
      },
      "source": [
        "# 9. Fraction class with __str__ override\n",
        "class Fraction:\n",
        "    def __init__(self, numerator, denominator):\n",
        "        self.numerator = numerator\n",
        "        self.denominator = denominator\n",
        "\n",
        "    def __str__(self):\n",
        "        return f\"{self.numerator}/{self.denominator}\"\n",
        "\n",
        "f = Fraction(3, 4)\n",
        "print(f)"
      ],
      "execution_count": 18,
      "outputs": [
        {
          "output_type": "stream",
          "name": "stdout",
          "text": [
            "3/4\n"
          ]
        }
      ]
    },
    {
      "cell_type": "code",
      "metadata": {
        "colab": {
          "base_uri": "https://localhost:8080/"
        },
        "id": "f3ecda86",
        "outputId": "04c52ae6-4d3c-475c-d6dc-c0b98a67fdda"
      },
      "source": [
        "# 10. Operator overloading in Vector\n",
        "class Vector:\n",
        "    def __init__(self, x, y):\n",
        "        self.x = x\n",
        "        self.y = y\n",
        "\n",
        "    def __add__(self, other):\n",
        "        return Vector(self.x + other.x, self.y + other.y)\n",
        "\n",
        "    def __str__(self):\n",
        "        return f\"({self.x}, {self.y})\"\n",
        "\n",
        "v1 = Vector(1, 2)\n",
        "v2 = Vector(3, 4)\n",
        "v3 = v1 + v2\n",
        "print(v3)"
      ],
      "execution_count": 19,
      "outputs": [
        {
          "output_type": "stream",
          "name": "stdout",
          "text": [
            "(4, 6)\n"
          ]
        }
      ]
    },
    {
      "cell_type": "code",
      "metadata": {
        "colab": {
          "base_uri": "https://localhost:8080/"
        },
        "id": "5473c564",
        "outputId": "a8db5116-e444-4fc3-d295-965ee8636db9"
      },
      "source": [
        "# 11. Person with greet method\n",
        "class Person:\n",
        "    def __init__(self, name, age):\n",
        "        self.name = name\n",
        "        self.age = age\n",
        "\n",
        "    def greet(self):\n",
        "        print(f\"Hello, my name is {self.name} and I am {self.age} years old.\")\n",
        "\n",
        "p = Person(\"Pratik\", 22)\n",
        "p.greet()"
      ],
      "execution_count": 20,
      "outputs": [
        {
          "output_type": "stream",
          "name": "stdout",
          "text": [
            "Hello, my name is Pratik and I am 22 years old.\n"
          ]
        }
      ]
    },
    {
      "cell_type": "code",
      "metadata": {
        "colab": {
          "base_uri": "https://localhost:8080/"
        },
        "id": "134b3dc9",
        "outputId": "7eeeb6bc-edb8-4f30-a208-8f92b7f973a9"
      },
      "source": [
        "# 12. Student with average_grade method\n",
        "class Student:\n",
        "    def __init__(self, name, grades):\n",
        "        self.name = name\n",
        "        self.grades = grades\n",
        "\n",
        "    def average_grade(self):\n",
        "        return sum(self.grades) / len(self.grades)\n",
        "\n",
        "s = Student(\"Rishita\", [90, 85, 95])\n",
        "print(s.average_grade())"
      ],
      "execution_count": 21,
      "outputs": [
        {
          "output_type": "stream",
          "name": "stdout",
          "text": [
            "90.0\n"
          ]
        }
      ]
    },
    {
      "cell_type": "code",
      "metadata": {
        "colab": {
          "base_uri": "https://localhost:8080/"
        },
        "id": "1c78e3fe",
        "outputId": "87ff8f5d-6f92-401b-8f66-faee019ba05b"
      },
      "source": [
        "# 13. Rectangle class with set_dimensions and area\n",
        "class Rectangle:\n",
        "    def set_dimensions(self, width, height):\n",
        "        self.width = width\n",
        "        self.height = height\n",
        "\n",
        "    def area(self):\n",
        "        return self.width * self.height\n",
        "\n",
        "r = Rectangle()\n",
        "r.set_dimensions(5, 3)\n",
        "print(r.area())"
      ],
      "execution_count": 22,
      "outputs": [
        {
          "output_type": "stream",
          "name": "stdout",
          "text": [
            "15\n"
          ]
        }
      ]
    },
    {
      "cell_type": "code",
      "metadata": {
        "colab": {
          "base_uri": "https://localhost:8080/"
        },
        "id": "1db9ad86",
        "outputId": "bb4bda9d-3b9c-42f5-9ca8-0dcf8f39e21d"
      },
      "source": [
        "# 14. Employee and Manager with salary + bonus\n",
        "class Employee:\n",
        "    def calculate_salary(self, hours, rate):\n",
        "        return hours * rate\n",
        "\n",
        "class Manager(Employee):\n",
        "    def calculate_salary(self, hours, rate, bonus):\n",
        "        return super().calculate_salary(hours, rate) + bonus\n",
        "\n",
        "m = Manager()\n",
        "print(m.calculate_salary(40, 100, 500))"
      ],
      "execution_count": 23,
      "outputs": [
        {
          "output_type": "stream",
          "name": "stdout",
          "text": [
            "4500\n"
          ]
        }
      ]
    },
    {
      "cell_type": "code",
      "metadata": {
        "colab": {
          "base_uri": "https://localhost:8080/"
        },
        "id": "9ba49c00",
        "outputId": "c5757a52-f636-4dde-c1a0-df021b8cd6d9"
      },
      "source": [
        "# 15. Product with total_price\n",
        "class Product:\n",
        "    def __init__(self, name, price, quantity):\n",
        "        self.name = name\n",
        "        self.price = price\n",
        "        self.quantity = quantity\n",
        "\n",
        "    def total_price(self):\n",
        "        return self.price * self.quantity\n",
        "\n",
        "p = Product(\"Phone\", 15000, 2)\n",
        "print(p.total_price())"
      ],
      "execution_count": 24,
      "outputs": [
        {
          "output_type": "stream",
          "name": "stdout",
          "text": [
            "30000\n"
          ]
        }
      ]
    },
    {
      "cell_type": "code",
      "metadata": {
        "colab": {
          "base_uri": "https://localhost:8080/"
        },
        "id": "df0f648e",
        "outputId": "5f0f4563-ce7f-446f-8f57-5ed9a913bfdd"
      },
      "source": [
        "# 16. Abstract Animal with Cow and Sheep\n",
        "from abc import ABC, abstractmethod\n",
        "\n",
        "class Animal(ABC):\n",
        "    @abstractmethod\n",
        "    def sound(self):\n",
        "        pass\n",
        "\n",
        "class Cow(Animal):\n",
        "    def sound(self):\n",
        "        print(\"Moo\")\n",
        "\n",
        "class Sheep(Animal):\n",
        "    def sound(self):\n",
        "        print(\"Baa\")\n",
        "\n",
        "c = Cow()\n",
        "s = Sheep()\n",
        "c.sound()\n",
        "s.sound()"
      ],
      "execution_count": 25,
      "outputs": [
        {
          "output_type": "stream",
          "name": "stdout",
          "text": [
            "Moo\n",
            "Baa\n"
          ]
        }
      ]
    },
    {
      "cell_type": "code",
      "metadata": {
        "colab": {
          "base_uri": "https://localhost:8080/"
        },
        "id": "44d0fde8",
        "outputId": "d8962405-1f37-4a11-a6aa-c390cf877c72"
      },
      "source": [
        "# 17. Book class with get_book_info method\n",
        "class Book:\n",
        "    def __init__(self, title, author, year_published):\n",
        "        self.title = title\n",
        "        self.author = author\n",
        "        self.year_published = year_published\n",
        "\n",
        "    def get_book_info(self):\n",
        "        return f\"{self.title} by {self.author}, published in {self.year_published}\"\n",
        "\n",
        "b = Book(\"Wings of Fire\", \"A.P.J. Abdul Kalam\", 1999)\n",
        "print(b.get_book_info())"
      ],
      "execution_count": 26,
      "outputs": [
        {
          "output_type": "stream",
          "name": "stdout",
          "text": [
            "Wings of Fire by A.P.J. Abdul Kalam, published in 1999\n"
          ]
        }
      ]
    },
    {
      "cell_type": "code",
      "metadata": {
        "colab": {
          "base_uri": "https://localhost:8080/"
        },
        "id": "bd0a6423",
        "outputId": "46674d3c-5850-4e70-d2c9-cc277f813f59"
      },
      "source": [
        "# 18. House and Mansion inheritance\n",
        "class House:\n",
        "    def __init__(self, address, price):\n",
        "        self.address = address\n",
        "        self.price = price\n",
        "\n",
        "class Mansion(House):\n",
        "    def __init__(self, address, price, number_of_rooms):\n",
        "        super().__init__(address, price)\n",
        "        self.number_of_rooms = number_of_rooms\n",
        "\n",
        "m = Mansion(\"Delhi\", 50000000, 10)\n",
        "print(m.address, m.price, m.number_of_rooms)"
      ],
      "execution_count": 27,
      "outputs": [
        {
          "output_type": "stream",
          "name": "stdout",
          "text": [
            "Delhi 50000000 10\n"
          ]
        }
      ]
    }
  ]
}