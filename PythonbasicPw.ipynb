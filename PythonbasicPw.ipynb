{
  "nbformat": 4,
  "nbformat_minor": 0,
  "metadata": {
    "colab": {
      "provenance": []
    },
    "kernelspec": {
      "name": "python3",
      "display_name": "Python 3"
    },
    "language_info": {
      "name": "python"
    }
  },
  "cells": [
    {
      "cell_type": "markdown",
      "metadata": {
        "id": "729faad2"
      },
      "source": [
        "# Python Assignment\n",
        "\n",
        "## Question 1: What is Python, and why is it popular?\n",
        "\n",
        "Python is a programming language that’s super easy to read and write. It’s often the first language people learn because the code feels a lot like English, so you don’t get lost in complicated syntax. It’s really popular because you can use it for almost anything—building websites, analyzing data, creating machine learning models, automating boring tasks, and even making games. Plus, there are tons of libraries (pre-made tools) that make your life way easier.\n",
        "\n",
        "## Question 2: What is an interpreter in Python?\n",
        "\n",
        "An interpreter in Python is a program that reads and runs your code line by line. Instead of converting the whole code into machine language at once (like a compiler), the Python interpreter checks and executes each line one after the other.\n",
        "\n",
        "## Question 3: What are pre-defined keywords in Python?\n",
        "\n",
        "Pre-defined keywords in Python are special reserved words that have a specific meaning in the language. You can’t use them as variable names, function names, or identifiers, because Python already uses them to understand the structure and logic of your code. Examples of Python keywords: `if`, `else`, `elif` – for conditions; `for`, `while` – for loops; `def` – to define a function; `class` – to define a class; `True`, `False`, `None` – special constant values; `import`, `from` – for using libraries; and `and`, `or`, `not` – for logical operations.\n",
        "\n",
        "## Question 4: Can keywords be used as variable names?\n",
        "\n",
        "No, keywords cannot be used as variable names in Python. Because keywords are reserved words that Python uses to understand the meaning of your code. If you try to use them as variable names, Python will get confused and throw an error.\n",
        "\n",
        "## Question 5: What is mutability in Python?\n",
        "\n",
        "In simple terms, mutability refers to whether or not a value (or object) can be changed after it's created. These can be changed after creation — you can update, add, or remove their content.\n",
        "\n",
        "Examples of mutable types:\n",
        "*   `list`\n",
        "*   `dict` (dictionary)\n",
        "*   `set`\n",
        "\n",
        "## Question 6: Why are lists mutable, but tuples are immutable?\n",
        "\n",
        "Lists are designed to hold data that might change. You can add, remove, or modify elements after the list is created. Python allows this because lists are often used when your data needs to be updated or changed during the program's execution.\n",
        "\n",
        "Tuples are meant to be fixed collections — like constants. Python makes them immutable for safety, performance, and reliability. Since they can't change, they can be used as keys in dictionaries or elements in sets (mutable types can't).\n",
        "\n",
        "## Question 7: What is the difference between “==” and “is” operators in Python?\n",
        "\n",
        "`==` → Equality Operator\n",
        "Checks if two values are the same (i.e., they look the same). It's about content, not memory.\n",
        "\n",
        "`is` → Identity Operator\n",
        "Checks if two variables point to the exact same object in memory. It's about identity, not content.\n",
        "\n",
        "## Question 8: What are logical operators in Python?\n",
        "\n",
        "Logical operators in Python are used to combine multiple conditions or boolean expressions (i.e., things that are either `True` or `False`). There are 3 main logical operators:\n",
        "\n",
        "*   `and` – Returns `True` if both conditions are `True`.\n",
        "\n",
        "## Question 9: What is type casting in Python?\n",
        "\n",
        "Type casting in Python means converting one data type into another, like turning a string into a number, or a float into an integer.\n",
        "\n",
        "## Question 10: What is the difference between implicit and explicit type casting?\n",
        "\n",
        "**Explicit Type Casting**\n",
        "You manually convert from one data type to another using functions like: `int()`, `float()`, `str()`, etc. Useful when Python can’t automatically convert or when you want control.\n",
        "\n",
        "**Implicit Type Casting**\n",
        "Python automatically converts one data type to another. Happens when there’s no risk of losing data.\n",
        "\n",
        "## Question 11: What is the purpose of conditional statements in Python?\n",
        "\n",
        "Conditional statements are used to make decisions in your Python program. Why are they useful? They let your program respond to different inputs or situations. You can control the flow of your code: do this if something is true, do that else.\n",
        "\n",
        "## Question 12: How does the elif statement work?\n",
        "\n",
        "The `elif` (short for \"else if\") is used when you want to check multiple conditions — not just one. It only runs if the previous `if` condition was `False`, and its own condition is `True`.\n",
        "\n",
        "## Question 13: What is the difference between for and while loops?\n",
        "\n",
        "`for` loop – Used when you know how many times you want to loop. Best for looping over a sequence (like a list, string, or range). Automatically stops after going through all items.\n",
        "\n",
        "`while` loop – Used when you don't know how many times, but loop until a condition becomes `False`. Keeps running as long as a condition is `True`. Can run forever if the condition is never `False` (infinite loop).\n",
        "\n",
        "## Question 14: Describe a scenario where a while loop is more suitable than a for loop?\n",
        "\n",
        "Imagine you're creating a simple login system where a user has 3 chances to enter the correct password. You don’t know in advance how many tries it will take — so a while loop is more suitable."
      ]
    },
    {
      "cell_type": "code",
      "metadata": {
        "colab": {
          "base_uri": "https://localhost:8080/"
        },
        "id": "2bad3826",
        "outputId": "b98a5b14-10b0-43c5-f2bd-d037eb81253b"
      },
      "source": [
        "correct_password = \"python123\"\n",
        "attempts = 0\n",
        "max_attempts = 3\n",
        "\n",
        "while attempts < max_attempts:\n",
        "    user_input = input(\"Enter password: \")\n",
        "\n",
        "    if user_input == correct_password:\n",
        "        print(\"Login successful!\")\n",
        "        break\n",
        "    else:\n",
        "        attempts += 1\n",
        "        print(\"Incorrect password. Try again.\")\n",
        "\n",
        "if attempts == max_attempts:\n",
        "    print(\"Too many failed attempts. Access blocked.\")"
      ],
      "execution_count": 3,
      "outputs": [
        {
          "output_type": "stream",
          "name": "stdout",
          "text": [
            "Enter password: 1233\\\n",
            "Incorrect password. Try again.\n",
            "Enter password: python123\n",
            "Login successful!\n"
          ]
        }
      ]
    },
    {
      "cell_type": "markdown",
      "metadata": {
        "id": "0f962c00"
      },
      "source": [
        "Here are the Python programs you requested:"
      ]
    },
    {
      "cell_type": "markdown",
      "metadata": {
        "id": "8bd2f4cf"
      },
      "source": [
        "## Print \"Hello, World!\""
      ]
    },
    {
      "cell_type": "code",
      "metadata": {
        "colab": {
          "base_uri": "https://localhost:8080/"
        },
        "id": "14c05dda",
        "outputId": "77686687-2d73-41e0-e8ce-bfb2bf71d6bd"
      },
      "source": [
        "print(\"Hello, World!\")"
      ],
      "execution_count": 4,
      "outputs": [
        {
          "output_type": "stream",
          "name": "stdout",
          "text": [
            "Hello, World!\n"
          ]
        }
      ]
    },
    {
      "cell_type": "markdown",
      "metadata": {
        "id": "42723f94"
      },
      "source": [
        "## Display Name and Age"
      ]
    },
    {
      "cell_type": "code",
      "metadata": {
        "colab": {
          "base_uri": "https://localhost:8080/"
        },
        "id": "563e4ea2",
        "outputId": "aabab462-d922-4253-85d3-4b0c28fe9c02"
      },
      "source": [
        "name = \"Your Name\"  # Replace with your name\n",
        "age = 30          # Replace with your age\n",
        "\n",
        "print(\"My name is\", name)\n",
        "print(\"My age is\", age)"
      ],
      "execution_count": 5,
      "outputs": [
        {
          "output_type": "stream",
          "name": "stdout",
          "text": [
            "My name is Your Name\n",
            "My age is 30\n"
          ]
        }
      ]
    },
    {
      "cell_type": "markdown",
      "metadata": {
        "id": "12ae0a85"
      },
      "source": [
        "## Print all pre-defined keywords"
      ]
    },
    {
      "cell_type": "code",
      "metadata": {
        "colab": {
          "base_uri": "https://localhost:8080/"
        },
        "id": "877dd3d9",
        "outputId": "62cea428-bd4c-4674-e837-702256e11084"
      },
      "source": [
        "import keyword\n",
        "\n",
        "print(keyword.kwlist)"
      ],
      "execution_count": 6,
      "outputs": [
        {
          "output_type": "stream",
          "name": "stdout",
          "text": [
            "['False', 'None', 'True', 'and', 'as', 'assert', 'async', 'await', 'break', 'class', 'continue', 'def', 'del', 'elif', 'else', 'except', 'finally', 'for', 'from', 'global', 'if', 'import', 'in', 'is', 'lambda', 'nonlocal', 'not', 'or', 'pass', 'raise', 'return', 'try', 'while', 'with', 'yield']\n"
          ]
        }
      ]
    },
    {
      "cell_type": "markdown",
      "metadata": {
        "id": "ee5d80e2"
      },
      "source": [
        "## Check if a given word is a Python keyword"
      ]
    },
    {
      "cell_type": "code",
      "metadata": {
        "colab": {
          "base_uri": "https://localhost:8080/"
        },
        "id": "6e9acd34",
        "outputId": "9ee9ab58-b31a-48a5-c49b-8840fbb0659a"
      },
      "source": [
        "import keyword\n",
        "\n",
        "word_to_check = \"for\"  # Replace with the word you want to check\n",
        "\n",
        "if keyword.iskeyword(word_to_check):\n",
        "    print(f\"{word_to_check} is a Python keyword.\")\n",
        "else:\n",
        "    print(f\"{word_to_check} is not a Python keyword.\")"
      ],
      "execution_count": 7,
      "outputs": [
        {
          "output_type": "stream",
          "name": "stdout",
          "text": [
            "for is a Python keyword.\n"
          ]
        }
      ]
    },
    {
      "cell_type": "markdown",
      "metadata": {
        "id": "213b6ed1"
      },
      "source": [
        "## Demonstrate mutability with list and tuple"
      ]
    },
    {
      "cell_type": "code",
      "metadata": {
        "colab": {
          "base_uri": "https://localhost:8080/"
        },
        "id": "29ca147f",
        "outputId": "6c6cccbb-b471-47e4-a34d-038f74ac50c4"
      },
      "source": [
        "# List (mutable)\n",
        "my_list = [1, 2, 3]\n",
        "print(\"Original list:\", my_list)\n",
        "my_list[0] = 10\n",
        "print(\"Modified list:\", my_list)\n",
        "\n",
        "# Tuple (immutable)\n",
        "my_tuple = (1, 2, 3)\n",
        "print(\"\\nOriginal tuple:\", my_tuple)\n",
        "# Attempting to change an element in a tuple will result in a TypeError\n",
        "# my_tuple[0] = 10  # Uncommenting this line will raise a TypeError"
      ],
      "execution_count": 8,
      "outputs": [
        {
          "output_type": "stream",
          "name": "stdout",
          "text": [
            "Original list: [1, 2, 3]\n",
            "Modified list: [10, 2, 3]\n",
            "\n",
            "Original tuple: (1, 2, 3)\n"
          ]
        }
      ]
    },
    {
      "cell_type": "markdown",
      "metadata": {
        "id": "e3be7acd"
      },
      "source": [
        "## Demonstrate mutable and immutable arguments in a function"
      ]
    },
    {
      "cell_type": "code",
      "metadata": {
        "colab": {
          "base_uri": "https://localhost:8080/"
        },
        "id": "4d846bba",
        "outputId": "9eb5e883-e7da-40a9-9069-ebe740910d73"
      },
      "source": [
        "def modify_list(lst):\n",
        "    lst.append(4)\n",
        "    print(\"Inside function (list):\", lst)\n",
        "\n",
        "def modify_string(text):\n",
        "    text = text + \" World\"\n",
        "    print(\"Inside function (string):\", text)\n",
        "\n",
        "my_list = [1, 2, 3]\n",
        "print(\"Outside function (before list):\", my_list)\n",
        "modify_list(my_list)\n",
        "print(\"Outside function (after list):\", my_list)\n",
        "\n",
        "my_string = \"Hello\"\n",
        "print(\"\\nOutside function (before string):\", my_string)\n",
        "modify_string(my_string)\n",
        "print(\"Outside function (after string):\", my_string)"
      ],
      "execution_count": 9,
      "outputs": [
        {
          "output_type": "stream",
          "name": "stdout",
          "text": [
            "Outside function (before list): [1, 2, 3]\n",
            "Inside function (list): [1, 2, 3, 4]\n",
            "Outside function (after list): [1, 2, 3, 4]\n",
            "\n",
            "Outside function (before string): Hello\n",
            "Inside function (string): Hello World\n",
            "Outside function (after string): Hello\n"
          ]
        }
      ]
    },
    {
      "cell_type": "markdown",
      "metadata": {
        "id": "882631e7"
      },
      "source": [
        "## Perform basic arithmetic operations"
      ]
    },
    {
      "cell_type": "code",
      "metadata": {
        "colab": {
          "base_uri": "https://localhost:8080/"
        },
        "id": "ec56e26e",
        "outputId": "11e08cf4-fd4a-4627-e55d-da26f619b4fd"
      },
      "source": [
        "num1 = float(input(\"Enter first number: \"))\n",
        "num2 = float(input(\"Enter second number: \"))\n",
        "\n",
        "print(f\"{num1} + {num2} = {num1 + num2}\")\n",
        "print(f\"{num1} - {num2} = {num1 - num2}\")\n",
        "print(f\"{num1} * {num2} = {num1 * num2}\")\n",
        "if num2 != 0:\n",
        "    print(f\"{num1} / {num2} = {num1 / num2}\")\n",
        "else:\n",
        "    print(\"Cannot divide by zero.\")"
      ],
      "execution_count": 10,
      "outputs": [
        {
          "output_type": "stream",
          "name": "stdout",
          "text": [
            "Enter first number: 1\n",
            "Enter second number: 2\n",
            "1.0 + 2.0 = 3.0\n",
            "1.0 - 2.0 = -1.0\n",
            "1.0 * 2.0 = 2.0\n",
            "1.0 / 2.0 = 0.5\n"
          ]
        }
      ]
    },
    {
      "cell_type": "markdown",
      "metadata": {
        "id": "40801517"
      },
      "source": [
        "## Demonstrate the use of logical operators"
      ]
    },
    {
      "cell_type": "code",
      "metadata": {
        "id": "02b2264d"
      },
      "source": [
        "x = 10\n",
        "y = 5\n",
        "\n",
        "print(f\"x > 5 and y < 10: {x > 5 and y < 10}\") # True and True -> True\n",
        "print(f\"x < 5 or y < 10: {x < 5 or y < 10}\")  # False or True -> True\n",
        "print(f\"not (x > 5): {not (x > 5)}\")        # not True -> False"
      ],
      "execution_count": null,
      "outputs": []
    },
    {
      "cell_type": "markdown",
      "metadata": {
        "id": "405b74e2"
      },
      "source": [
        "## Convert user input to different types"
      ]
    },
    {
      "cell_type": "code",
      "metadata": {
        "id": "31a904d1"
      },
      "source": [
        "user_input_string = input(\"Enter something: \")\n",
        "\n",
        "# Convert to integer\n",
        "try:\n",
        "    int_value = int(user_input_string)\n",
        "    print(f\"Converted to integer: {int_value} (type: {type(int_value)})\")\n",
        "except ValueError:\n",
        "    print(\"Cannot convert to integer.\")\n",
        "\n",
        "# Convert to float\n",
        "try:\n",
        "    float_value = float(user_input_string)\n",
        "    print(f\"Converted to float: {float_value} (type: {type(float_value)})\")\n",
        "except ValueError:\n",
        "    print(\"Cannot convert to float.\")\n",
        "\n",
        "# Convert to boolean (basic example based on non-empty string)\n",
        "bool_value = bool(user_input_string)\n",
        "print(f\"Converted to boolean: {bool_value} (type: {type(bool_value)})\")"
      ],
      "execution_count": null,
      "outputs": []
    },
    {
      "cell_type": "markdown",
      "metadata": {
        "id": "1553a564"
      },
      "source": [
        "## Demonstrate type casting with list elements"
      ]
    },
    {
      "cell_type": "code",
      "metadata": {
        "id": "3aca6e73"
      },
      "source": [
        "my_list = [\"1\", \"2\", \"3\"]\n",
        "print(\"Original list:\", my_list)\n",
        "\n",
        "# Type casting elements to integers\n",
        "int_list = [int(item) for item in my_list]\n",
        "print(\"List after type casting to integers:\", int_list)\n",
        "\n",
        "# Type casting elements to floats\n",
        "float_list = [float(item) for item in my_list]\n",
        "print(\"List after type casting to floats:\", float_list)"
      ],
      "execution_count": null,
      "outputs": []
    },
    {
      "cell_type": "markdown",
      "metadata": {
        "id": "9de397c3"
      },
      "source": [
        "## Check if a number is positive, negative, or zero"
      ]
    },
    {
      "cell_type": "code",
      "metadata": {
        "colab": {
          "base_uri": "https://localhost:8080/"
        },
        "id": "33726c00",
        "outputId": "422f26ef-df6a-404e-f05b-ee885543e874"
      },
      "source": [
        "number = float(input(\"Enter a number: \"))\n",
        "\n",
        "if number > 0:\n",
        "    print(\"The number is positive.\")\n",
        "elif number < 0:\n",
        "    print(\"The number is negative.\")\n",
        "else:\n",
        "    print(\"The number is zero.\")"
      ],
      "execution_count": 12,
      "outputs": [
        {
          "output_type": "stream",
          "name": "stdout",
          "text": [
            "Enter a number: 1\n",
            "The number is positive.\n"
          ]
        }
      ]
    },
    {
      "cell_type": "markdown",
      "metadata": {
        "id": "c1a65cea"
      },
      "source": [
        "## For loop to print numbers from 1 to 10"
      ]
    },
    {
      "cell_type": "code",
      "metadata": {
        "colab": {
          "base_uri": "https://localhost:8080/"
        },
        "id": "b758e7e4",
        "outputId": "7d143f32-c31c-4345-8f38-b7872b8a751c"
      },
      "source": [
        "for i in range(1, 11):\n",
        "    print(i)"
      ],
      "execution_count": 13,
      "outputs": [
        {
          "output_type": "stream",
          "name": "stdout",
          "text": [
            "1\n",
            "2\n",
            "3\n",
            "4\n",
            "5\n",
            "6\n",
            "7\n",
            "8\n",
            "9\n",
            "10\n"
          ]
        }
      ]
    },
    {
      "cell_type": "markdown",
      "metadata": {
        "id": "2ff1fdab"
      },
      "source": [
        "## Find the sum of all even numbers between 1 and 50"
      ]
    },
    {
      "cell_type": "code",
      "metadata": {
        "colab": {
          "base_uri": "https://localhost:8080/"
        },
        "id": "f332aeb5",
        "outputId": "ea817df3-1ac8-41da-e046-13309b85aac6"
      },
      "source": [
        "sum_of_evens = 0\n",
        "for number in range(2, 51, 2):\n",
        "    sum_of_evens += number\n",
        "\n",
        "print(f\"The sum of even numbers between 1 and 50 is: {sum_of_evens}\")"
      ],
      "execution_count": 14,
      "outputs": [
        {
          "output_type": "stream",
          "name": "stdout",
          "text": [
            "The sum of even numbers between 1 and 50 is: 650\n"
          ]
        }
      ]
    },
    {
      "cell_type": "markdown",
      "metadata": {
        "id": "0023afa9"
      },
      "source": [
        "## Reverse a string using a while loop"
      ]
    },
    {
      "cell_type": "code",
      "metadata": {
        "colab": {
          "base_uri": "https://localhost:8080/"
        },
        "id": "1af17d94",
        "outputId": "c4b2b160-f3cb-46fd-9a76-73574e0d18da"
      },
      "source": [
        "input_string = input(\"Enter a string to reverse: \")\n",
        "reversed_string = \"\"\n",
        "index = len(input_string) - 1\n",
        "\n",
        "while index >= 0:\n",
        "    reversed_string += input_string[index]\n",
        "    index -= 1\n",
        "\n",
        "print(\"Reversed string:\", reversed_string)"
      ],
      "execution_count": 15,
      "outputs": [
        {
          "output_type": "stream",
          "name": "stdout",
          "text": [
            "Enter a string to reverse: 2453\n",
            "Reversed string: 3542\n"
          ]
        }
      ]
    },
    {
      "cell_type": "markdown",
      "metadata": {
        "id": "58d6dbb6"
      },
      "source": [
        "## Calculate the factorial of a number using a while loop"
      ]
    },
    {
      "cell_type": "code",
      "metadata": {
        "colab": {
          "base_uri": "https://localhost:8080/"
        },
        "id": "9a0055b3",
        "outputId": "0b180479-0aee-4579-c255-89ff27daf2ab"
      },
      "source": [
        "num = int(input(\"Enter a non-negative integer: \"))\n",
        "\n",
        "if num < 0:\n",
        "    print(\"Factorial is not defined for negative numbers.\")\n",
        "elif num == 0:\n",
        "    print(\"The factorial of 0 is 1.\")\n",
        "else:\n",
        "    factorial = 1\n",
        "    i = 1\n",
        "    while i <= num:\n",
        "        factorial *= i\n",
        "        i += 1\n",
        "    print(f\"The factorial of {num} is {factorial}\")"
      ],
      "execution_count": 16,
      "outputs": [
        {
          "output_type": "stream",
          "name": "stdout",
          "text": [
            "Enter a non-negative integer: 462\n",
            "The factorial of 462 is 1419159881532604159360102000036080964658416816135249696855460074727663781956564225443661071064590813823086017487654536640373871732068219144155999221149886235271917959324982277782894496974776764354649443187388471916225777037934304061898140610264203513224568992267985133196146221123559653327267653041816888546350020803277939702619118517855005661896568297930178774742403495403589987032469249656264655283705609914337102511658548912793512377617186130946103986408391779556879206851635853674087222003857010972328198176589202050258861816838859923977766530230373986339885837776830754897123756992166447346427734143587673715578908763805453058669927375329257830006831024154175159812569824426117414686642318021754519040811343037772218945776217952886991226367198000301336935289507741059975484605683242465157600002672212040063916674628014468341468864451345330960013562297211404319383977203386651535398105323453275806608075795127389388800000000000000000000000000000000000000000000000000000000000000000000000000000000000000000000000000000000000000000\n"
          ]
        }
      ]
    }
  ]
}